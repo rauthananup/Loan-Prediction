{
 "cells": [
  {
   "cell_type": "markdown",
   "id": "66112bc0-4b48-4c5e-a65e-0b79be23de7e",
   "metadata": {
    "tags": []
   },
   "source": [
    "#A classification problem where we have to predict whether a loan would be approved or not.\n",
    "# In a classification problem, we have to predict discrete values based on a given set of independent variable(s)."
   ]
  },
  {
   "cell_type": "code",
   "execution_count": 1,
   "id": "23082272-d097-4b5c-a232-a949887d9df4",
   "metadata": {},
   "outputs": [],
   "source": [
    "#required package\n",
    "import numpy as np\n",
    "import pandas as pd\n",
    "import seaborn as sns\n",
    "import matplotlib.pyplot as plt"
   ]
  },
  {
   "cell_type": "code",
   "execution_count": 2,
   "id": "a4032d2a-314a-4f10-9fce-961809c5a3e4",
   "metadata": {},
   "outputs": [
    {
     "data": {
      "text/html": [
       "<div>\n",
       "<style scoped>\n",
       "    .dataframe tbody tr th:only-of-type {\n",
       "        vertical-align: middle;\n",
       "    }\n",
       "\n",
       "    .dataframe tbody tr th {\n",
       "        vertical-align: top;\n",
       "    }\n",
       "\n",
       "    .dataframe thead th {\n",
       "        text-align: right;\n",
       "    }\n",
       "</style>\n",
       "<table border=\"1\" class=\"dataframe\">\n",
       "  <thead>\n",
       "    <tr style=\"text-align: right;\">\n",
       "      <th></th>\n",
       "      <th>Loan_ID</th>\n",
       "      <th>Gender</th>\n",
       "      <th>Married</th>\n",
       "      <th>Dependents</th>\n",
       "      <th>Education</th>\n",
       "      <th>Self_Employed</th>\n",
       "      <th>ApplicantIncome</th>\n",
       "      <th>CoapplicantIncome</th>\n",
       "      <th>LoanAmount</th>\n",
       "      <th>Loan_Amount_Term</th>\n",
       "      <th>Credit_History</th>\n",
       "      <th>Property_Area</th>\n",
       "      <th>Loan_Status</th>\n",
       "    </tr>\n",
       "  </thead>\n",
       "  <tbody>\n",
       "    <tr>\n",
       "      <th>0</th>\n",
       "      <td>LP001002</td>\n",
       "      <td>Male</td>\n",
       "      <td>No</td>\n",
       "      <td>0</td>\n",
       "      <td>Graduate</td>\n",
       "      <td>No</td>\n",
       "      <td>5849</td>\n",
       "      <td>0.0</td>\n",
       "      <td>NaN</td>\n",
       "      <td>360.0</td>\n",
       "      <td>1.0</td>\n",
       "      <td>Urban</td>\n",
       "      <td>Y</td>\n",
       "    </tr>\n",
       "    <tr>\n",
       "      <th>1</th>\n",
       "      <td>LP001003</td>\n",
       "      <td>Male</td>\n",
       "      <td>Yes</td>\n",
       "      <td>1</td>\n",
       "      <td>Graduate</td>\n",
       "      <td>No</td>\n",
       "      <td>4583</td>\n",
       "      <td>1508.0</td>\n",
       "      <td>128.0</td>\n",
       "      <td>360.0</td>\n",
       "      <td>1.0</td>\n",
       "      <td>Rural</td>\n",
       "      <td>N</td>\n",
       "    </tr>\n",
       "    <tr>\n",
       "      <th>2</th>\n",
       "      <td>LP001005</td>\n",
       "      <td>Male</td>\n",
       "      <td>Yes</td>\n",
       "      <td>0</td>\n",
       "      <td>Graduate</td>\n",
       "      <td>Yes</td>\n",
       "      <td>3000</td>\n",
       "      <td>0.0</td>\n",
       "      <td>66.0</td>\n",
       "      <td>360.0</td>\n",
       "      <td>1.0</td>\n",
       "      <td>Urban</td>\n",
       "      <td>Y</td>\n",
       "    </tr>\n",
       "    <tr>\n",
       "      <th>3</th>\n",
       "      <td>LP001006</td>\n",
       "      <td>Male</td>\n",
       "      <td>Yes</td>\n",
       "      <td>0</td>\n",
       "      <td>Not Graduate</td>\n",
       "      <td>No</td>\n",
       "      <td>2583</td>\n",
       "      <td>2358.0</td>\n",
       "      <td>120.0</td>\n",
       "      <td>360.0</td>\n",
       "      <td>1.0</td>\n",
       "      <td>Urban</td>\n",
       "      <td>Y</td>\n",
       "    </tr>\n",
       "    <tr>\n",
       "      <th>4</th>\n",
       "      <td>LP001008</td>\n",
       "      <td>Male</td>\n",
       "      <td>No</td>\n",
       "      <td>0</td>\n",
       "      <td>Graduate</td>\n",
       "      <td>No</td>\n",
       "      <td>6000</td>\n",
       "      <td>0.0</td>\n",
       "      <td>141.0</td>\n",
       "      <td>360.0</td>\n",
       "      <td>1.0</td>\n",
       "      <td>Urban</td>\n",
       "      <td>Y</td>\n",
       "    </tr>\n",
       "  </tbody>\n",
       "</table>\n",
       "</div>"
      ],
      "text/plain": [
       "    Loan_ID Gender Married Dependents     Education Self_Employed  \\\n",
       "0  LP001002   Male      No          0      Graduate            No   \n",
       "1  LP001003   Male     Yes          1      Graduate            No   \n",
       "2  LP001005   Male     Yes          0      Graduate           Yes   \n",
       "3  LP001006   Male     Yes          0  Not Graduate            No   \n",
       "4  LP001008   Male      No          0      Graduate            No   \n",
       "\n",
       "   ApplicantIncome  CoapplicantIncome  LoanAmount  Loan_Amount_Term  \\\n",
       "0             5849                0.0         NaN             360.0   \n",
       "1             4583             1508.0       128.0             360.0   \n",
       "2             3000                0.0        66.0             360.0   \n",
       "3             2583             2358.0       120.0             360.0   \n",
       "4             6000                0.0       141.0             360.0   \n",
       "\n",
       "   Credit_History Property_Area Loan_Status  \n",
       "0             1.0         Urban           Y  \n",
       "1             1.0         Rural           N  \n",
       "2             1.0         Urban           Y  \n",
       "3             1.0         Urban           Y  \n",
       "4             1.0         Urban           Y  "
      ]
     },
     "execution_count": 2,
     "metadata": {},
     "output_type": "execute_result"
    }
   ],
   "source": [
    "loan_1 = pd.DataFrame(pd.read_csv(\"C:/Users/rauth/Downloads//train_ctrUa4K.csv\"))\n",
    "loan_1.head()"
   ]
  },
  {
   "cell_type": "code",
   "execution_count": 3,
   "id": "d82aad80-90e0-41d9-912b-d9de5219ca66",
   "metadata": {},
   "outputs": [],
   "source": [
    "loan_1.drop(['Loan_ID'],axis=1,inplace=True)"
   ]
  },
  {
   "cell_type": "code",
   "execution_count": 4,
   "id": "d430d627-f472-445e-963d-989b4bdcf589",
   "metadata": {},
   "outputs": [
    {
     "data": {
      "text/html": [
       "<div>\n",
       "<style scoped>\n",
       "    .dataframe tbody tr th:only-of-type {\n",
       "        vertical-align: middle;\n",
       "    }\n",
       "\n",
       "    .dataframe tbody tr th {\n",
       "        vertical-align: top;\n",
       "    }\n",
       "\n",
       "    .dataframe thead th {\n",
       "        text-align: right;\n",
       "    }\n",
       "</style>\n",
       "<table border=\"1\" class=\"dataframe\">\n",
       "  <thead>\n",
       "    <tr style=\"text-align: right;\">\n",
       "      <th></th>\n",
       "      <th>Gender</th>\n",
       "      <th>Married</th>\n",
       "      <th>Dependents</th>\n",
       "      <th>Education</th>\n",
       "      <th>Self_Employed</th>\n",
       "      <th>ApplicantIncome</th>\n",
       "      <th>CoapplicantIncome</th>\n",
       "      <th>LoanAmount</th>\n",
       "      <th>Loan_Amount_Term</th>\n",
       "      <th>Credit_History</th>\n",
       "      <th>Property_Area</th>\n",
       "      <th>Loan_Status</th>\n",
       "    </tr>\n",
       "  </thead>\n",
       "  <tbody>\n",
       "    <tr>\n",
       "      <th>609</th>\n",
       "      <td>Female</td>\n",
       "      <td>No</td>\n",
       "      <td>0</td>\n",
       "      <td>Graduate</td>\n",
       "      <td>No</td>\n",
       "      <td>2900</td>\n",
       "      <td>0.0</td>\n",
       "      <td>71.0</td>\n",
       "      <td>360.0</td>\n",
       "      <td>1.0</td>\n",
       "      <td>Rural</td>\n",
       "      <td>Y</td>\n",
       "    </tr>\n",
       "    <tr>\n",
       "      <th>610</th>\n",
       "      <td>Male</td>\n",
       "      <td>Yes</td>\n",
       "      <td>3+</td>\n",
       "      <td>Graduate</td>\n",
       "      <td>No</td>\n",
       "      <td>4106</td>\n",
       "      <td>0.0</td>\n",
       "      <td>40.0</td>\n",
       "      <td>180.0</td>\n",
       "      <td>1.0</td>\n",
       "      <td>Rural</td>\n",
       "      <td>Y</td>\n",
       "    </tr>\n",
       "    <tr>\n",
       "      <th>611</th>\n",
       "      <td>Male</td>\n",
       "      <td>Yes</td>\n",
       "      <td>1</td>\n",
       "      <td>Graduate</td>\n",
       "      <td>No</td>\n",
       "      <td>8072</td>\n",
       "      <td>240.0</td>\n",
       "      <td>253.0</td>\n",
       "      <td>360.0</td>\n",
       "      <td>1.0</td>\n",
       "      <td>Urban</td>\n",
       "      <td>Y</td>\n",
       "    </tr>\n",
       "    <tr>\n",
       "      <th>612</th>\n",
       "      <td>Male</td>\n",
       "      <td>Yes</td>\n",
       "      <td>2</td>\n",
       "      <td>Graduate</td>\n",
       "      <td>No</td>\n",
       "      <td>7583</td>\n",
       "      <td>0.0</td>\n",
       "      <td>187.0</td>\n",
       "      <td>360.0</td>\n",
       "      <td>1.0</td>\n",
       "      <td>Urban</td>\n",
       "      <td>Y</td>\n",
       "    </tr>\n",
       "    <tr>\n",
       "      <th>613</th>\n",
       "      <td>Female</td>\n",
       "      <td>No</td>\n",
       "      <td>0</td>\n",
       "      <td>Graduate</td>\n",
       "      <td>Yes</td>\n",
       "      <td>4583</td>\n",
       "      <td>0.0</td>\n",
       "      <td>133.0</td>\n",
       "      <td>360.0</td>\n",
       "      <td>0.0</td>\n",
       "      <td>Semiurban</td>\n",
       "      <td>N</td>\n",
       "    </tr>\n",
       "  </tbody>\n",
       "</table>\n",
       "</div>"
      ],
      "text/plain": [
       "     Gender Married Dependents Education Self_Employed  ApplicantIncome  \\\n",
       "609  Female      No          0  Graduate            No             2900   \n",
       "610    Male     Yes         3+  Graduate            No             4106   \n",
       "611    Male     Yes          1  Graduate            No             8072   \n",
       "612    Male     Yes          2  Graduate            No             7583   \n",
       "613  Female      No          0  Graduate           Yes             4583   \n",
       "\n",
       "     CoapplicantIncome  LoanAmount  Loan_Amount_Term  Credit_History  \\\n",
       "609                0.0        71.0             360.0             1.0   \n",
       "610                0.0        40.0             180.0             1.0   \n",
       "611              240.0       253.0             360.0             1.0   \n",
       "612                0.0       187.0             360.0             1.0   \n",
       "613                0.0       133.0             360.0             0.0   \n",
       "\n",
       "    Property_Area Loan_Status  \n",
       "609         Rural           Y  \n",
       "610         Rural           Y  \n",
       "611         Urban           Y  \n",
       "612         Urban           Y  \n",
       "613     Semiurban           N  "
      ]
     },
     "execution_count": 4,
     "metadata": {},
     "output_type": "execute_result"
    }
   ],
   "source": [
    "loan_1.tail()"
   ]
  },
  {
   "cell_type": "code",
   "execution_count": 5,
   "id": "5932efb0-5ddf-472a-9902-502fa3d945d4",
   "metadata": {},
   "outputs": [
    {
     "data": {
      "text/plain": [
       "Index(['Gender', 'Married', 'Dependents', 'Education', 'Self_Employed',\n",
       "       'ApplicantIncome', 'CoapplicantIncome', 'LoanAmount',\n",
       "       'Loan_Amount_Term', 'Credit_History', 'Property_Area', 'Loan_Status'],\n",
       "      dtype='object')"
      ]
     },
     "execution_count": 5,
     "metadata": {},
     "output_type": "execute_result"
    }
   ],
   "source": [
    "loan_1.columns"
   ]
  },
  {
   "cell_type": "code",
   "execution_count": 6,
   "id": "ec67739a-5d5b-4531-95f8-3391f18a8412",
   "metadata": {},
   "outputs": [],
   "source": [
    "# IN THIS DATA WE HAVE 12 INDEPENDENT VARIABLE & 1 DEPENDENT VARIABLE"
   ]
  },
  {
   "cell_type": "code",
   "execution_count": 7,
   "id": "8f4c6472-6ea0-462a-9feb-7c6c602fb00f",
   "metadata": {},
   "outputs": [
    {
     "name": "stdout",
     "output_type": "stream",
     "text": [
      "<class 'pandas.core.frame.DataFrame'>\n",
      "RangeIndex: 614 entries, 0 to 613\n",
      "Data columns (total 12 columns):\n",
      " #   Column             Non-Null Count  Dtype  \n",
      "---  ------             --------------  -----  \n",
      " 0   Gender             601 non-null    object \n",
      " 1   Married            611 non-null    object \n",
      " 2   Dependents         599 non-null    object \n",
      " 3   Education          614 non-null    object \n",
      " 4   Self_Employed      582 non-null    object \n",
      " 5   ApplicantIncome    614 non-null    int64  \n",
      " 6   CoapplicantIncome  614 non-null    float64\n",
      " 7   LoanAmount         592 non-null    float64\n",
      " 8   Loan_Amount_Term   600 non-null    float64\n",
      " 9   Credit_History     564 non-null    float64\n",
      " 10  Property_Area      614 non-null    object \n",
      " 11  Loan_Status        614 non-null    object \n",
      "dtypes: float64(4), int64(1), object(7)\n",
      "memory usage: 57.7+ KB\n"
     ]
    }
   ],
   "source": [
    "loan_1.info()"
   ]
  },
  {
   "cell_type": "code",
   "execution_count": 8,
   "id": "9eb01f67-ad43-4d26-8b71-5f1f92218714",
   "metadata": {},
   "outputs": [],
   "source": [
    "# AS WE CAN SEEN THERE ARE THREE FORMATE OF DATA TYPE:\n",
    "\n",
    "# OBJECT : OBJECT FORMATE MEANS VARIABLES ARE CATEGORICAL.\n",
    "#INT64 : IT REPRESENTS THE INTEGER VARIABLES.\n",
    "#FLOAT64 : IT REPERASENTS THE VARIABLE WHICH HAVE SOME DECIMAL VALUES INVOLVED.THEY ARE ALSO NUMERICAL VARIABLES."
   ]
  },
  {
   "cell_type": "code",
   "execution_count": 9,
   "id": "4402409d-6c41-42d8-8f5b-7eb568ca41e9",
   "metadata": {},
   "outputs": [
    {
     "data": {
      "text/plain": [
       "(614, 12)"
      ]
     },
     "execution_count": 9,
     "metadata": {},
     "output_type": "execute_result"
    }
   ],
   "source": [
    "# Let's check the dimensions of the dataframe\n",
    "loan_1.shape"
   ]
  },
  {
   "cell_type": "markdown",
   "id": "59b6e230-b90d-43c3-95bc-055569d0b7eb",
   "metadata": {},
   "source": [
    "-UNIVARIATE ANALYSIS\n",
    "\n",
    " -IT IS SIMPLEST FORM OF ANALYZING DATA WHERE WE EXAMINE EACH VARIABLE INDIVIDUALLY.\n",
    "\n",
    " -FOR CATEGORICAL FEATURES WE CAN USE FREQUENCY TABLE OR BAR PLOT WHICH WILL CALCULATE THE NUMBER OF EACH CATEGORY IN A PARTICULAR VARIABLE.\n",
    "\n",
    "- FPR NUMERICAL FEATURE,PROBABILITY DENSITY PLOT CAN BE USED TO LOOK AT THE DISTRIBUTION OF THE VARIABLE."
   ]
  },
  {
   "cell_type": "code",
   "execution_count": 11,
   "id": "20174543-a80f-4d97-b35a-3ed68dbb8976",
   "metadata": {},
   "outputs": [
    {
     "data": {
      "text/plain": [
       "614"
      ]
     },
     "execution_count": 11,
     "metadata": {},
     "output_type": "execute_result"
    }
   ],
   "source": [
    "# FIRST WE LOOK INDEPENDENT VARIABLE i.e.,Loan Status\n",
    "loan_1['Loan_Status'].count()\n"
   ]
  },
  {
   "cell_type": "code",
   "execution_count": 12,
   "id": "4a1fc443-30e3-4374-b7a7-56b5d048011f",
   "metadata": {},
   "outputs": [
    {
     "data": {
      "text/plain": [
       "Y    422\n",
       "N    192\n",
       "Name: Loan_Status, dtype: int64"
      ]
     },
     "execution_count": 12,
     "metadata": {},
     "output_type": "execute_result"
    }
   ],
   "source": [
    "loan_1['Loan_Status'].value_counts()"
   ]
  },
  {
   "cell_type": "code",
   "execution_count": 13,
   "id": "a50376c7-e6ab-44ba-b364-369314ad12ae",
   "metadata": {},
   "outputs": [
    {
     "data": {
      "text/plain": [
       "Y    68.729642\n",
       "N    31.270358\n",
       "Name: Loan_Status, dtype: float64"
      ]
     },
     "execution_count": 13,
     "metadata": {},
     "output_type": "execute_result"
    }
   ],
   "source": [
    "# Normalize can be set to True to print proportions instead of number\n",
    "loan_1['Loan_Status'].value_counts(normalize=True)*100"
   ]
  },
  {
   "cell_type": "code",
   "execution_count": 14,
   "id": "aaf19985-f58e-40c1-b9c1-bc81b899c633",
   "metadata": {},
   "outputs": [
    {
     "data": {
      "text/plain": [
       "<AxesSubplot:title={'center':'Loan_Status'}>"
      ]
     },
     "execution_count": 14,
     "metadata": {},
     "output_type": "execute_result"
    },
    {
     "data": {
      "image/png": "[encoded data removed]",
      "text/plain": [
       "<Figure size 432x288 with 1 Axes>"
      ]
     },
     "metadata": {
      "needs_background": "light"
     },
     "output_type": "display_data"
    }
   ],
   "source": [
    "# DRAW A PLOT\n",
    "loan_1['Loan_Status'].value_counts(normalize=True).plot.bar(title='Loan_Status')"
   ]
  },
  {
   "cell_type": "code",
   "execution_count": 15,
   "id": "fb15daec-a395-4e38-b376-8f7ef365b057",
   "metadata": {},
   "outputs": [],
   "source": [
    "# THE LOAN OF 422(around 69%) PEOPLE OUT OF 614 WAS APPROVED."
   ]
  },
  {
   "cell_type": "code",
   "execution_count": 16,
   "id": "da792655-09b0-4842-95ac-bf26d2c3b410",
   "metadata": {},
   "outputs": [],
   "source": [
    "# NOW WE LOOK INDEPENDENT VARIABLE (CATEGORICAL)\n"
   ]
  },
  {
   "cell_type": "code",
   "execution_count": 17,
   "id": "ae0f57c1-ecef-4a63-bed2-e51b515a529a",
   "metadata": {},
   "outputs": [
    {
     "data": {
      "text/plain": [
       "601"
      ]
     },
     "execution_count": 17,
     "metadata": {},
     "output_type": "execute_result"
    }
   ],
   "source": [
    "loan_1['Gender'].count()"
   ]
  },
  {
   "cell_type": "code",
   "execution_count": 18,
   "id": "67d084f4-5188-4252-bf7a-9df5edc21224",
   "metadata": {},
   "outputs": [
    {
     "data": {
      "text/plain": [
       "Male      489\n",
       "Female    112\n",
       "Name: Gender, dtype: int64"
      ]
     },
     "execution_count": 18,
     "metadata": {},
     "output_type": "execute_result"
    }
   ],
   "source": [
    "loan_1['Gender'].value_counts()"
   ]
  },
  {
   "cell_type": "code",
   "execution_count": 19,
   "id": "a1230d7f-3280-4049-9ffe-2287f9998e6d",
   "metadata": {},
   "outputs": [
    {
     "data": {
      "text/plain": [
       "Male      81.364393\n",
       "Female    18.635607\n",
       "Name: Gender, dtype: float64"
      ]
     },
     "execution_count": 19,
     "metadata": {},
     "output_type": "execute_result"
    }
   ],
   "source": [
    "# PRINT PROPORTION instead of number\n",
    "loan_1['Gender'].value_counts(normalize=True)*100"
   ]
  },
  {
   "cell_type": "code",
   "execution_count": 20,
   "id": "7249f0e0-0027-4d77-b0fb-61c322a94d67",
   "metadata": {},
   "outputs": [
    {
     "data": {
      "text/plain": [
       "<AxesSubplot:title={'center':'Gender'}>"
      ]
     },
     "execution_count": 20,
     "metadata": {},
     "output_type": "execute_result"
    },
    {
     "data": {
      "image/png": "[encoded data removed]",
      "text/plain": [
       "<Figure size 432x288 with 1 Axes>"
      ]
     },
     "metadata": {
      "needs_background": "light"
     },
     "output_type": "display_data"
    }
   ],
   "source": [
    "# Draw a plot\n",
    "loan_1['Gender'].value_counts(normalize=True).plot.bar(title='Gender')"
   ]
  },
  {
   "cell_type": "code",
   "execution_count": 21,
   "id": "3df15765-a0a2-47b6-97aa-17455736bf4e",
   "metadata": {},
   "outputs": [
    {
     "data": {
      "text/plain": [
       "611"
      ]
     },
     "execution_count": 21,
     "metadata": {},
     "output_type": "execute_result"
    }
   ],
   "source": [
    "# Analysis on 'Married' Variable:\n",
    "loan_1['Married'].count()"
   ]
  },
  {
   "cell_type": "code",
   "execution_count": 22,
   "id": "5bc7f0ae-2e8c-4214-a154-fb56c9199c65",
   "metadata": {},
   "outputs": [
    {
     "data": {
      "text/plain": [
       "Yes    398\n",
       "No     213\n",
       "Name: Married, dtype: int64"
      ]
     },
     "execution_count": 22,
     "metadata": {},
     "output_type": "execute_result"
    }
   ],
   "source": [
    "loan_1['Married'].value_counts()"
   ]
  },
  {
   "cell_type": "code",
   "execution_count": 23,
   "id": "3223f362-1ec2-43cd-afea-d591e90ca6d2",
   "metadata": {},
   "outputs": [
    {
     "data": {
      "text/plain": [
       "Yes    65.139116\n",
       "No     34.860884\n",
       "Name: Married, dtype: float64"
      ]
     },
     "execution_count": 23,
     "metadata": {},
     "output_type": "execute_result"
    }
   ],
   "source": [
    "loan_1['Married'].value_counts(normalize=True)*100"
   ]
  },
  {
   "cell_type": "code",
   "execution_count": 24,
   "id": "74750c63-9a8c-4fc7-982a-31883002facd",
   "metadata": {},
   "outputs": [
    {
     "data": {
      "text/plain": [
       "<AxesSubplot:title={'center':'Married'}>"
      ]
     },
     "execution_count": 24,
     "metadata": {},
     "output_type": "execute_result"
    },
    {
     "data": {
      "image/png": "[encoded data removed]",
      "text/plain": [
       "<Figure size 432x288 with 1 Axes>"
      ]
     },
     "metadata": {
      "needs_background": "light"
     },
     "output_type": "display_data"
    }
   ],
   "source": [
    "loan_1['Married'].value_counts(normalize=True).plot.bar(title='Married')"
   ]
  },
  {
   "cell_type": "code",
   "execution_count": 25,
   "id": "4ceb8f8c-d23b-412a-b7c1-4eed3e6992b3",
   "metadata": {},
   "outputs": [
    {
     "data": {
      "text/plain": [
       "582"
      ]
     },
     "execution_count": 25,
     "metadata": {},
     "output_type": "execute_result"
    }
   ],
   "source": [
    "# Analysis on \"Self_Employed\" variable:\n",
    "loan_1['Self_Employed'].count()"
   ]
  },
  {
   "cell_type": "code",
   "execution_count": 26,
   "id": "16d7bdc5-9fd8-4b50-ab94-3b1708f2fa9a",
   "metadata": {},
   "outputs": [
    {
     "data": {
      "text/plain": [
       "No     500\n",
       "Yes     82\n",
       "Name: Self_Employed, dtype: int64"
      ]
     },
     "execution_count": 26,
     "metadata": {},
     "output_type": "execute_result"
    }
   ],
   "source": [
    "loan_1['Self_Employed'].value_counts()"
   ]
  },
  {
   "cell_type": "code",
   "execution_count": 27,
   "id": "af0a6f0a-758c-4ac4-835a-fc898810909a",
   "metadata": {},
   "outputs": [
    {
     "data": {
      "text/plain": [
       "No     85.910653\n",
       "Yes    14.089347\n",
       "Name: Self_Employed, dtype: float64"
      ]
     },
     "execution_count": 27,
     "metadata": {},
     "output_type": "execute_result"
    }
   ],
   "source": [
    "loan_1['Self_Employed'].value_counts(normalize=True)*100"
   ]
  },
  {
   "cell_type": "code",
   "execution_count": 28,
   "id": "ef718213-c87c-45ac-b353-e4144676a1d8",
   "metadata": {},
   "outputs": [
    {
     "data": {
      "text/plain": [
       "<AxesSubplot:title={'center':'Self_Employed'}>"
      ]
     },
     "execution_count": 28,
     "metadata": {},
     "output_type": "execute_result"
    },
    {
     "data": {
      "image/png": "[encoded data removed]",
      "text/plain": [
       "<Figure size 432x288 with 1 Axes>"
      ]
     },
     "metadata": {
      "needs_background": "light"
     },
     "output_type": "display_data"
    }
   ],
   "source": [
    "# draw a plot\n",
    "loan_1['Self_Employed'].value_counts(normalize=True).plot.bar(title='Self_Employed')"
   ]
  },
  {
   "cell_type": "code",
   "execution_count": 29,
   "id": "9cb0920a-a819-4c75-a891-39d9274349e6",
   "metadata": {},
   "outputs": [],
   "source": [
    "# Independent Variable (Ordinal)\n",
    "# ORDINALfeature : variables in categorical features having some order involved (Dependents,Education,Property_Area)\n"
   ]
  },
  {
   "cell_type": "code",
   "execution_count": 30,
   "id": "7e2acd9c-c5bb-4f8e-bd75-46ec4541b3a4",
   "metadata": {},
   "outputs": [
    {
     "data": {
      "text/plain": [
       "599"
      ]
     },
     "execution_count": 30,
     "metadata": {},
     "output_type": "execute_result"
    }
   ],
   "source": [
    "# Analysis on 'Dependents' variable:\n",
    "loan_1['Dependents'].count()"
   ]
  },
  {
   "cell_type": "code",
   "execution_count": 31,
   "id": "7af1601b-880c-4cfc-b140-52e41a3857b6",
   "metadata": {},
   "outputs": [
    {
     "data": {
      "text/plain": [
       "0     345\n",
       "1     102\n",
       "2     101\n",
       "3+     51\n",
       "Name: Dependents, dtype: int64"
      ]
     },
     "execution_count": 31,
     "metadata": {},
     "output_type": "execute_result"
    }
   ],
   "source": [
    "loan_1['Dependents'].value_counts()"
   ]
  },
  {
   "cell_type": "code",
   "execution_count": 32,
   "id": "84756bc0-c674-4bfc-8a8d-f02419ca4fb9",
   "metadata": {},
   "outputs": [
    {
     "data": {
      "text/plain": [
       "0     57.595993\n",
       "1     17.028381\n",
       "2     16.861436\n",
       "3+     8.514190\n",
       "Name: Dependents, dtype: float64"
      ]
     },
     "execution_count": 32,
     "metadata": {},
     "output_type": "execute_result"
    }
   ],
   "source": [
    "loan_1['Dependents'].value_counts(normalize=True)*100"
   ]
  },
  {
   "cell_type": "code",
   "execution_count": 33,
   "id": "81ebb757-56e9-4ede-b174-9dc2d0dac48a",
   "metadata": {},
   "outputs": [
    {
     "data": {
      "text/plain": [
       "<AxesSubplot:title={'center':'Dependents'}>"
      ]
     },
     "execution_count": 33,
     "metadata": {},
     "output_type": "execute_result"
    },
    {
     "data": {
      "image/png": "[encoded data removed]",
      "text/plain": [
       "<Figure size 432x288 with 1 Axes>"
      ]
     },
     "metadata": {
      "needs_background": "light"
     },
     "output_type": "display_data"
    }
   ],
   "source": [
    "# Draw a plot\n",
    "loan_1['Dependents'].value_counts(normalize=True).plot.bar(title='Dependents')"
   ]
  },
  {
   "cell_type": "code",
   "execution_count": 34,
   "id": "47b89689-01e1-4c3d-8b31-bbd105ebba60",
   "metadata": {},
   "outputs": [],
   "source": [
    "# 58 % pepole have 0 dependent\n",
    "# 17 % pepole have 1 dependent\n",
    "# 17 % pepole have 2 dependent\n",
    "# 8 % pepole have 3+ dependent"
   ]
  },
  {
   "cell_type": "code",
   "execution_count": 35,
   "id": "52e04184-2193-4895-a7ab-52a0de06a37e",
   "metadata": {},
   "outputs": [
    {
     "data": {
      "text/plain": [
       "614"
      ]
     },
     "execution_count": 35,
     "metadata": {},
     "output_type": "execute_result"
    }
   ],
   "source": [
    "# Analysis on 'Property_Area' variable:\n",
    "loan_1['Property_Area'].count()"
   ]
  },
  {
   "cell_type": "code",
   "execution_count": 36,
   "id": "fa9903ec-862e-43a6-a5a9-82b6219d0e59",
   "metadata": {},
   "outputs": [
    {
     "data": {
      "text/plain": [
       "Semiurban    233\n",
       "Urban        202\n",
       "Rural        179\n",
       "Name: Property_Area, dtype: int64"
      ]
     },
     "execution_count": 36,
     "metadata": {},
     "output_type": "execute_result"
    }
   ],
   "source": [
    "loan_1['Property_Area'].value_counts()"
   ]
  },
  {
   "cell_type": "code",
   "execution_count": 37,
   "id": "55b85813-421a-4202-80d8-4d2d23c418b2",
   "metadata": {},
   "outputs": [
    {
     "data": {
      "text/plain": [
       "Semiurban    37.947883\n",
       "Urban        32.899023\n",
       "Rural        29.153094\n",
       "Name: Property_Area, dtype: float64"
      ]
     },
     "execution_count": 37,
     "metadata": {},
     "output_type": "execute_result"
    }
   ],
   "source": [
    "loan_1['Property_Area'].value_counts(normalize=True)*100"
   ]
  },
  {
   "cell_type": "code",
   "execution_count": 38,
   "id": "78d38f6a-09e2-4275-a536-aaccf96128a8",
   "metadata": {},
   "outputs": [
    {
     "data": {
      "text/plain": [
       "<AxesSubplot:title={'center':'Property_Area'}>"
      ]
     },
     "execution_count": 38,
     "metadata": {},
     "output_type": "execute_result"
    },
    {
     "data": {
      "image/png": "[encoded data removed]",
      "text/plain": [
       "<Figure size 432x288 with 1 Axes>"
      ]
     },
     "metadata": {
      "needs_background": "light"
     },
     "output_type": "display_data"
    }
   ],
   "source": [
    "# Draw a plot\n",
    "loan_1['Property_Area'].value_counts(normalize=True).plot.bar(title='Property_Area')"
   ]
  },
  {
   "cell_type": "code",
   "execution_count": 39,
   "id": "e73c538b-0197-4bbf-a148-00f8f0f6fc56",
   "metadata": {},
   "outputs": [
    {
     "data": {
      "text/plain": [
       "614"
      ]
     },
     "execution_count": 39,
     "metadata": {},
     "output_type": "execute_result"
    }
   ],
   "source": [
    "# Analysis on 'Education' variable:\n",
    "loan_1['Education'].count()"
   ]
  },
  {
   "cell_type": "code",
   "execution_count": 40,
   "id": "4ad3b122-41fd-47a4-8b47-8c96d2a84cf0",
   "metadata": {},
   "outputs": [
    {
     "data": {
      "text/plain": [
       "Graduate        480\n",
       "Not Graduate    134\n",
       "Name: Education, dtype: int64"
      ]
     },
     "execution_count": 40,
     "metadata": {},
     "output_type": "execute_result"
    }
   ],
   "source": [
    "loan_1['Education'].value_counts()"
   ]
  },
  {
   "cell_type": "code",
   "execution_count": 41,
   "id": "4f0f859d-a6fc-4fa1-8706-79d757197599",
   "metadata": {},
   "outputs": [
    {
     "data": {
      "text/plain": [
       "Graduate        78.175896\n",
       "Not Graduate    21.824104\n",
       "Name: Education, dtype: float64"
      ]
     },
     "execution_count": 41,
     "metadata": {},
     "output_type": "execute_result"
    }
   ],
   "source": [
    "loan_1['Education'].value_counts(normalize=100)*100"
   ]
  },
  {
   "cell_type": "code",
   "execution_count": 42,
   "id": "ecf65b3e-435c-41ea-a319-fc0c8777b40b",
   "metadata": {},
   "outputs": [
    {
     "data": {
      "text/plain": [
       "<AxesSubplot:title={'center':'Education'}>"
      ]
     },
     "execution_count": 42,
     "metadata": {},
     "output_type": "execute_result"
    },
    {
     "data": {
      "image/png": "[encoded data removed]",
      "text/plain": [
       "<Figure size 432x288 with 1 Axes>"
      ]
     },
     "metadata": {
      "needs_background": "light"
     },
     "output_type": "display_data"
    }
   ],
   "source": [
    "# Draw a plot \n",
    "loan_1['Education'].value_counts(normalize=100).plot.bar(title='Education')"
   ]
  },
  {
   "cell_type": "code",
   "execution_count": 43,
   "id": "9d70f1c7-8cd0-4a66-95bf-d49886ac2080",
   "metadata": {},
   "outputs": [],
   "source": [
    "# Total number of people: 614\n",
    "# 78 % are Graduate and 22 % Not Graduate"
   ]
  },
  {
   "cell_type": "code",
   "execution_count": null,
   "id": "1ca0219f-1112-4b3c-ac2f-3d9f746d9fe4",
   "metadata": {},
   "outputs": [],
   "source": []
  },
  {
   "cell_type": "code",
   "execution_count": 44,
   "id": "f812116d-83dc-428e-9c33-4a6b9ae7e729",
   "metadata": {},
   "outputs": [],
   "source": [
    "# INDEPENDENT VARIABLE(NUMERICAL)\n",
    "# This feature have numerical value"
   ]
  },
  {
   "cell_type": "code",
   "execution_count": 45,
   "id": "f085769e-022f-449f-a4c1-53ed406c4f0f",
   "metadata": {},
   "outputs": [
    {
     "name": "stderr",
     "output_type": "stream",
     "text": [
      "C:\\Intel\\python\\lib\\site-packages\\seaborn\\distributions.py:2619: FutureWarning: `distplot` is a deprecated function and will be removed in a future version. Please adapt your code to use either `displot` (a figure-level function with similar flexibility) or `histplot` (an axes-level function for histograms).\n",
      "  warnings.warn(msg, FutureWarning)\n"
     ]
    },
    {
     "data": {
      "image/png": "[encoded data removed]",
      "text/plain": [
       "<Figure size 1152x360 with 2 Axes>"
      ]
     },
     "metadata": {
      "needs_background": "light"
     },
     "output_type": "display_data"
    }
   ],
   "source": [
    "# 'ApplicantIncome' distribution:\n",
    "plt.figure(1)\n",
    "plt.subplot(121)\n",
    "sns.distplot(loan_1['ApplicantIncome']);\n",
    "\n",
    "plt.subplot(122)\n",
    "loan_1['ApplicantIncome'].plot.box(figsize=(16,5))\n",
    "plt.show()"
   ]
  },
  {
   "cell_type": "code",
   "execution_count": 46,
   "id": "464f85e1-c74f-4ce4-aeb0-4b70a48f7a5a",
   "metadata": {},
   "outputs": [],
   "source": [
    "# It can be inferred  that most of data in the distrubution of applicant income is towards left which mean \n",
    "# it is not normally distributed.\n",
    "\n",
    "# The box plot confirms the presence of lot of outliers/extreme values.\n",
    "\n",
    "# Part of this can be driven by the fact that we are looking at people with different education levels."
   ]
  },
  {
   "cell_type": "code",
   "execution_count": 47,
   "id": "67c65899-a7b3-43fb-ac19-e1263f5faab4",
   "metadata": {},
   "outputs": [
    {
     "data": {
      "image/png": "[encoded data removed]",
      "text/plain": [
       "<Figure size 432x288 with 1 Axes>"
      ]
     },
     "metadata": {
      "needs_background": "light"
     },
     "output_type": "display_data"
    }
   ],
   "source": [
    "loan_1.boxplot(column='ApplicantIncome',by='Education')\n",
    "plt.suptitle(\" \")\n",
    "plt.show()"
   ]
  },
  {
   "cell_type": "code",
   "execution_count": 48,
   "id": "fc6ab35e-5dcd-46b9-8caf-c2af5a2c5a4f",
   "metadata": {},
   "outputs": [],
   "source": [
    "# We can see that there are a higher number of graduates with very high incomes, which are appearing to be the outliers."
   ]
  },
  {
   "cell_type": "code",
   "execution_count": 49,
   "id": "43c96ee5-d0f0-4c38-99f5-acc99f144d01",
   "metadata": {},
   "outputs": [
    {
     "name": "stderr",
     "output_type": "stream",
     "text": [
      "C:\\Intel\\python\\lib\\site-packages\\seaborn\\distributions.py:2619: FutureWarning: `distplot` is a deprecated function and will be removed in a future version. Please adapt your code to use either `displot` (a figure-level function with similar flexibility) or `histplot` (an axes-level function for histograms).\n",
      "  warnings.warn(msg, FutureWarning)\n"
     ]
    },
    {
     "data": {
      "image/png": "[encoded data removed]",
      "text/plain": [
       "<Figure size 1152x360 with 2 Axes>"
      ]
     },
     "metadata": {
      "needs_background": "light"
     },
     "output_type": "display_data"
    }
   ],
   "source": [
    "# Let’s look at the \"CoapplicantIncome\" distribution:\n",
    "plt.figure(1)\n",
    "plt.subplot(121)\n",
    "sns.distplot(loan_1['CoapplicantIncome']);\n",
    "\n",
    "plt.subplot(122)\n",
    "loan_1['CoapplicantIncome'].plot.box(figsize=(16,5))\n",
    "plt.show()\n"
   ]
  },
  {
   "cell_type": "code",
   "execution_count": 50,
   "id": "c0b11841-c19d-4346-bb55-4d38f597c039",
   "metadata": {},
   "outputs": [],
   "source": [
    "# We see similar distribution as that of the applicant income.Majority of income between 0 to 5000.\n",
    "# We also see a lot of outlairs in the coapplicant income & it's not normally distributed."
   ]
  },
  {
   "cell_type": "code",
   "execution_count": 51,
   "id": "cf4ec1ca-5610-4b11-8100-9d9fd513a1b8",
   "metadata": {},
   "outputs": [
    {
     "name": "stderr",
     "output_type": "stream",
     "text": [
      "C:\\Intel\\python\\lib\\site-packages\\seaborn\\distributions.py:2619: FutureWarning: `distplot` is a deprecated function and will be removed in a future version. Please adapt your code to use either `displot` (a figure-level function with similar flexibility) or `histplot` (an axes-level function for histograms).\n",
      "  warnings.warn(msg, FutureWarning)\n"
     ]
    },
    {
     "data": {
      "image/png": "[encoded data removed]",
      "text/plain": [
       "<Figure size 1152x360 with 2 Axes>"
      ]
     },
     "metadata": {
      "needs_background": "light"
     },
     "output_type": "display_data"
    }
   ],
   "source": [
    "# check the distribution of \"Loan Amount\" :\n",
    "plt.figure(1)\n",
    "plt.subplot(121)\n",
    "df=loan_1.dropna()\n",
    "sns.distplot(df['LoanAmount']);\n",
    "\n",
    "plt.subplot(122)\n",
    "loan_1['LoanAmount'].plot.box(figsize=(16,5))\n",
    "plt.show()"
   ]
  },
  {
   "cell_type": "code",
   "execution_count": 52,
   "id": "e2eec9ee-87e4-4ffe-aeb5-944d261e5cdd",
   "metadata": {},
   "outputs": [],
   "source": [
    "# We see distribution of loan amount is fairly normal and lot of outliers in this variable."
   ]
  },
  {
   "cell_type": "code",
   "execution_count": 53,
   "id": "d7b8ae63-6184-4ead-ba84-7ff20607cfa6",
   "metadata": {},
   "outputs": [
    {
     "name": "stderr",
     "output_type": "stream",
     "text": [
      "C:\\Intel\\python\\lib\\site-packages\\seaborn\\distributions.py:2619: FutureWarning: `distplot` is a deprecated function and will be removed in a future version. Please adapt your code to use either `displot` (a figure-level function with similar flexibility) or `histplot` (an axes-level function for histograms).\n",
      "  warnings.warn(msg, FutureWarning)\n"
     ]
    },
    {
     "data": {
      "image/png": "[encoded data removed]",
      "text/plain": [
       "<Figure size 1152x360 with 2 Axes>"
      ]
     },
     "metadata": {
      "needs_background": "light"
     },
     "output_type": "display_data"
    }
   ],
   "source": [
    "# Now we see distribution of \"loan amount term' variable :\n",
    "\n",
    "plt.figure(1)\n",
    "plt.subplot(121)\n",
    "df=loan_1.dropna()\n",
    "sns.distplot(df['Loan_Amount_Term']);\n",
    "\n",
    "plt.subplot(122)\n",
    "loan_1['Loan_Amount_Term'].plot.box(figsize=(16,5))\n",
    "plt.show()\n"
   ]
  },
  {
   "cell_type": "code",
   "execution_count": 54,
   "id": "bfeb6e6f-ca69-4877-a169-fab0217a1155",
   "metadata": {},
   "outputs": [],
   "source": [
    "# We see a lot of outliers in this variable and the distribution is fairly normal"
   ]
  },
  {
   "cell_type": "code",
   "execution_count": 55,
   "id": "2b9fea98-6a10-4707-9282-2ab02919a9c3",
   "metadata": {},
   "outputs": [],
   "source": [
    "# Bivariate Analysis = Here we explore independent variable with dependent variable.\n",
    "\n",
    "# First we find relation between dependent variable with categorical independent variable.\n"
   ]
  },
  {
   "cell_type": "code",
   "execution_count": 56,
   "id": "ee4fd904-fcf9-424d-a5d3-b78bc6383172",
   "metadata": {},
   "outputs": [
    {
     "data": {
      "text/plain": [
       "<AxesSubplot:xlabel='Gender', ylabel='count'>"
      ]
     },
     "execution_count": 56,
     "metadata": {},
     "output_type": "execute_result"
    },
    {
     "data": {
      "image/png": "[encoded data removed]",
      "text/plain": [
       "<Figure size 432x288 with 1 Axes>"
      ]
     },
     "metadata": {
      "needs_background": "light"
     },
     "output_type": "display_data"
    }
   ],
   "source": [
    "# Relation between \"Gender\" and \"Loan_Status\" :\n",
    "\n",
    "sns.countplot(x='Gender',hue='Loan_Status',data=loan_1)"
   ]
  },
  {
   "cell_type": "code",
   "execution_count": 57,
   "id": "befab4f2-161b-405b-b55f-f89714761070",
   "metadata": {},
   "outputs": [
    {
     "name": "stdout",
     "output_type": "stream",
     "text": [
      "Loan_Status    N    Y\n",
      "Gender               \n",
      "Female        37   75\n",
      "Male         150  339\n"
     ]
    }
   ],
   "source": [
    "print(pd.crosstab(loan_1['Gender'],loan_1['Loan_Status']))"
   ]
  },
  {
   "cell_type": "code",
   "execution_count": 58,
   "id": "c1b2fa3f-a5cd-4b5b-94b4-768750d6fdd3",
   "metadata": {},
   "outputs": [],
   "source": [
    "# number of male whose loan approed:339\n",
    "# number of male whose loan was not approed:150\n",
    "# number of female whose loan approed:75\n",
    "# number of female whose loan was not approed:37"
   ]
  },
  {
   "cell_type": "code",
   "execution_count": 59,
   "id": "9afc247a-7b1b-4869-b057-5dda7f884f9f",
   "metadata": {},
   "outputs": [
    {
     "name": "stdout",
     "output_type": "stream",
     "text": [
      "Loan_Status    N    Y\n",
      "Married              \n",
      "No            79  134\n",
      "Yes          113  285\n"
     ]
    },
    {
     "data": {
      "image/png": "[encoded data removed]",
      "text/plain": [
       "<Figure size 288x288 with 1 Axes>"
      ]
     },
     "metadata": {
      "needs_background": "light"
     },
     "output_type": "display_data"
    }
   ],
   "source": [
    "# Relation between \"loan status' and \"married' :\n",
    "print(pd.crosstab(loan_1['Married'],loan_1['Loan_Status']))\n",
    "married= pd.crosstab(loan_1['Married'],loan_1['Loan_Status'])\n",
    "married.div(married.sum(1).astype(float),axis=0).plot(kind='bar',stacked=True,figsize=(4,4))\n",
    "plt.xlabel('Married')\n",
    "plt.ylabel('Percentage')\n",
    "plt.show()"
   ]
  },
  {
   "cell_type": "code",
   "execution_count": 60,
   "id": "22cf2292-2f6c-4df6-acb3-56d1cf1abd94",
   "metadata": {},
   "outputs": [],
   "source": [
    "# Number of married people whose Loan was approed : 285\n",
    "\n",
    "# Number of married people whose Loan was not approed : 113\n",
    "\n",
    "# Number of unmarried people whose Loan was approed : 134\n",
    "\n",
    "# Number of unmarried people whose Loan was not approed : 79\n",
    "\n",
    "# Proportion of Married applicants is higher for the approved loans."
   ]
  },
  {
   "cell_type": "code",
   "execution_count": 61,
   "id": "ae2fa037-639e-4cf3-820c-e680d855bce8",
   "metadata": {},
   "outputs": [
    {
     "name": "stdout",
     "output_type": "stream",
     "text": [
      "Loan_Status    N    Y\n",
      "Dependents           \n",
      "0            107  238\n",
      "1             36   66\n",
      "2             25   76\n",
      "3+            18   33\n"
     ]
    },
    {
     "data": {
      "image/png": "[encoded data removed]",
      "text/plain": [
       "<Figure size 288x288 with 1 Axes>"
      ]
     },
     "metadata": {
      "needs_background": "light"
     },
     "output_type": "display_data"
    }
   ],
   "source": [
    "# Relation between \"loan status' and 'Dependents' :\n",
    "\n",
    "print(pd.crosstab(loan_1['Dependents'],loan_1['Loan_Status']))\n",
    "married= pd.crosstab(loan_1['Dependents'],loan_1['Loan_Status'])\n",
    "married.div(married.sum(1).astype(float),axis=0).plot(kind='bar',stacked=True,figsize=(4,4))\n",
    "plt.xlabel('Dependents')\n",
    "plt.ylabel('Percentage')\n",
    "plt.show()"
   ]
  },
  {
   "cell_type": "code",
   "execution_count": 62,
   "id": "9792639d-5beb-4bed-a49c-210c3cb77209",
   "metadata": {},
   "outputs": [
    {
     "name": "stdout",
     "output_type": "stream",
     "text": [
      "Loan_Status     N    Y\n",
      "Education             \n",
      "Graduate      140  340\n",
      "Not Graduate   52   82\n"
     ]
    },
    {
     "data": {
      "image/png": "[encoded data removed]",
      "text/plain": [
       "<Figure size 288x288 with 1 Axes>"
      ]
     },
     "metadata": {
      "needs_background": "light"
     },
     "output_type": "display_data"
    }
   ],
   "source": [
    "# Relation between \"loan status' and 'Education' :\n",
    "\n",
    "print(pd.crosstab(loan_1['Education'],loan_1['Loan_Status']))\n",
    "education= pd.crosstab(loan_1['Education'],loan_1['Loan_Status'])\n",
    "education.div(education.sum(1).astype(float),axis=0).plot(kind='bar',stacked=True,figsize=(4,4))\n",
    "plt.xlabel('Education')\n",
    "plt.ylabel('Percentage')\n",
    "plt.show()"
   ]
  },
  {
   "cell_type": "code",
   "execution_count": 63,
   "id": "ea0390e6-c832-42be-9800-b1388c4ef74d",
   "metadata": {},
   "outputs": [
    {
     "name": "stdout",
     "output_type": "stream",
     "text": [
      "Loan_Status      N    Y\n",
      "Self_Employed          \n",
      "No             157  343\n",
      "Yes             26   56\n"
     ]
    },
    {
     "data": {
      "image/png": "[encoded data removed]",
      "text/plain": [
       "<Figure size 288x288 with 1 Axes>"
      ]
     },
     "metadata": {
      "needs_background": "light"
     },
     "output_type": "display_data"
    }
   ],
   "source": [
    "# Relation between \"loan status' and 'self employed' :\n",
    "\n",
    "print(pd.crosstab(loan_1['Self_Employed'],loan_1['Loan_Status']))\n",
    "Self_Employed= pd.crosstab(loan_1['Self_Employed'],loan_1['Loan_Status'])\n",
    "Self_Employed.div(Self_Employed.sum(1).astype(float),axis=0).plot(kind='bar',stacked=True,figsize=(4,4))\n",
    "plt.xlabel('Self_Employed')\n",
    "plt.ylabel('Percentage')\n",
    "plt.show()"
   ]
  },
  {
   "cell_type": "code",
   "execution_count": 64,
   "id": "e5603413-ef57-41e7-9944-83645e07625e",
   "metadata": {},
   "outputs": [
    {
     "name": "stdout",
     "output_type": "stream",
     "text": [
      "Loan_Status      N    Y\n",
      "Credit_History         \n",
      "0.0             82    7\n",
      "1.0             97  378\n"
     ]
    },
    {
     "data": {
      "image/png": "[encoded data removed]",
      "text/plain": [
       "<Figure size 288x288 with 1 Axes>"
      ]
     },
     "metadata": {
      "needs_background": "light"
     },
     "output_type": "display_data"
    }
   ],
   "source": [
    "# Relation between \"loan status' and 'creditHistory' :\n",
    "\n",
    "print(pd.crosstab(loan_1['Credit_History'],loan_1['Loan_Status']))\n",
    "creditHistory= pd.crosstab(loan_1['Credit_History'],loan_1['Loan_Status'])\n",
    "creditHistory.div(creditHistory.sum(1).astype(float),axis=0).plot(kind='bar',stacked=True,figsize=(4,4))\n",
    "plt.xlabel('Credit_History')\n",
    "plt.ylabel('Percentage')\n",
    "plt.show()"
   ]
  },
  {
   "cell_type": "code",
   "execution_count": 65,
   "id": "275289d0-30cf-4933-a4ba-12ad78e93691",
   "metadata": {},
   "outputs": [
    {
     "name": "stdout",
     "output_type": "stream",
     "text": [
      "Loan_Status     N    Y\n",
      "Property_Area         \n",
      "Rural          69  110\n",
      "Semiurban      54  179\n",
      "Urban          69  133\n"
     ]
    },
    {
     "data": {
      "image/png": "[encoded data removed]",
      "text/plain": [
       "<Figure size 288x288 with 1 Axes>"
      ]
     },
     "metadata": {
      "needs_background": "light"
     },
     "output_type": "display_data"
    }
   ],
   "source": [
    "# Relation between \"loan status' and 'property area' :\n",
    "\n",
    "print(pd.crosstab(loan_1['Property_Area'],loan_1['Loan_Status']))\n",
    "propertyarea= pd.crosstab(loan_1['Property_Area'],loan_1['Loan_Status'])\n",
    "propertyarea.div(propertyarea.sum(1).astype(float),axis=0).plot(kind='bar',stacked=True,figsize=(4,4))\n",
    "plt.xlabel('Property_Area')\n",
    "plt.ylabel('Percentage')\n",
    "plt.show()"
   ]
  },
  {
   "cell_type": "code",
   "execution_count": 66,
   "id": "2c6e6a40-153c-4a43-aec8-6cbc3a009375",
   "metadata": {
    "tags": []
   },
   "outputs": [
    {
     "data": {
      "text/plain": [
       "<AxesSubplot:xlabel='Loan_Status'>"
      ]
     },
     "execution_count": 66,
     "metadata": {},
     "output_type": "execute_result"
    },
    {
     "data": {
      "image/png": "[encoded data removed]",
      "text/plain": [
       "<Figure size 432x288 with 1 Axes>"
      ]
     },
     "metadata": {
      "needs_background": "light"
     },
     "output_type": "display_data"
    }
   ],
   "source": [
    "# Now find the relation between numerical independent vs dependent variable.\n",
    "#  Relation between \"Loan_Status\" and \"Income\":\n",
    "\n",
    "#We will find the mean income of people for which loan has approved vs the mean income of people for which the loan  has not \n",
    "#approved.\n",
    "loan_1.groupby(\"Loan_Status\")['ApplicantIncome'].mean().plot.bar()"
   ]
  },
  {
   "cell_type": "code",
   "execution_count": 67,
   "id": "0f1713f2-2b4c-41c8-9648-883a1a87159e",
   "metadata": {},
   "outputs": [],
   "source": [
    "# Here the Y-axis represent the mean application income.We don't see any changes in the mean income.\n",
    "# So, let’s make bins for the applicant income variable based on the values in it and\n",
    "# analyze the corresponding loan status for each bin."
   ]
  },
  {
   "cell_type": "code",
   "execution_count": 68,
   "id": "548034b1-ae74-40c2-a18e-dc763c527668",
   "metadata": {},
   "outputs": [],
   "source": [
    "bins=[0,2500,4000,6000,81000]\n",
    "group=['Low','Average','High','Very High']\n",
    "loan_1['Income_bin']=pd.cut(df['ApplicantIncome'],bins,labels=group)"
   ]
  },
  {
   "cell_type": "code",
   "execution_count": 69,
   "id": "73a9dce5-ba07-4e0e-ba64-b7588778d984",
   "metadata": {},
   "outputs": [
    {
     "name": "stdout",
     "output_type": "stream",
     "text": [
      "Loan_Status   N    Y\n",
      "Income_bin          \n",
      "Low          26   57\n",
      "Average      51  123\n",
      "High         32   79\n",
      "Very High    39   73\n"
     ]
    },
    {
     "data": {
      "image/png": "[encoded data removed]",
      "text/plain": [
       "<Figure size 288x288 with 1 Axes>"
      ]
     },
     "metadata": {
      "needs_background": "light"
     },
     "output_type": "display_data"
    }
   ],
   "source": [
    "print(pd.crosstab(loan_1['Income_bin'],loan_1['Loan_Status']))\n",
    "Income_bin= pd.crosstab(loan_1['Income_bin'],loan_1['Loan_Status'])\n",
    "Income_bin.div(Income_bin.sum(1).astype(float),axis=0).plot(kind='bar',stacked=True,figsize=(4,4))\n",
    "plt.xlabel('ApplicantIncome')\n",
    "plt.ylabel('Percentage')\n",
    "plt.show()\n",
    "                                                            "
   ]
  },
  {
   "cell_type": "markdown",
   "id": "67914d99-2109-4f07-a742-16f7b4720fab",
   "metadata": {},
   "source": [
    "## we can see that Applicant income does not affect  the chances of loan approval which contradicts our hypothesis in which we assumed that if the applicant income is high the chance of loan approval will also be high."
   ]
  },
  {
   "cell_type": "code",
   "execution_count": 70,
   "id": "75be63df-70a3-4651-8e7c-b816c85afe66",
   "metadata": {},
   "outputs": [],
   "source": [
    "# We will analyze the coapplicant income and loan status variable similar  way.\n",
    "\n",
    "bins=[0,1000,3000,4200]\n",
    "group=['Low','Average','High']\n",
    "loan_1['CoapplicantIncome_bin']=pd.cut(df['CoapplicantIncome'],bins,labels=group)"
   ]
  },
  {
   "cell_type": "code",
   "execution_count": 71,
   "id": "eb32e6c5-a223-4977-be59-873dc7121442",
   "metadata": {},
   "outputs": [
    {
     "name": "stdout",
     "output_type": "stream",
     "text": [
      "Loan_Status             N    Y\n",
      "CoapplicantIncome_bin         \n",
      "Low                     3   15\n",
      "Average                46  123\n",
      "High                   10   27\n"
     ]
    },
    {
     "data": {
      "image/png": "[encoded data removed]",
      "text/plain": [
       "<Figure size 288x288 with 1 Axes>"
      ]
     },
     "metadata": {
      "needs_background": "light"
     },
     "output_type": "display_data"
    }
   ],
   "source": [
    "print(pd.crosstab(loan_1['CoapplicantIncome_bin'],loan_1['Loan_Status']))\n",
    "coapplicantincome_bin= pd.crosstab(loan_1['CoapplicantIncome_bin'],loan_1['Loan_Status'])\n",
    "coapplicantincome_bin.div(coapplicantincome_bin.sum(1).astype(float),axis=0).plot(kind='bar',stacked=True,figsize=(4,4))\n",
    "plt.xlabel('CoapplicantIncome')\n",
    "plt.ylabel('Percentage')\n",
    "plt.show()"
   ]
  },
  {
   "cell_type": "code",
   "execution_count": 72,
   "id": "ada80d25-56de-4f8e-94f2-4c37e3bbbd00",
   "metadata": {},
   "outputs": [],
   "source": [
    "# As we see that if coapplicant income low chances of loan approvel is high.But this does not look right.The possible reason\n",
    "# behind this may be the most of the applicants don't have any coapplicant so the coapplicant income for such application is 0\n",
    "# and hence the loan approvel is not dependent on it.\n",
    "\n",
    "# So we can make a new variable in which we will combine the applicant's and coapplicants income to visualize the combined \n",
    "# effect of income on loan approval."
   ]
  },
  {
   "cell_type": "code",
   "execution_count": 73,
   "id": "18e3918f-22f9-4778-af65-6376b76c8068",
   "metadata": {},
   "outputs": [],
   "source": [
    "loan_1['TotalIncome']=loan_1['ApplicantIncome']+loan_1['CoapplicantIncome']"
   ]
  },
  {
   "cell_type": "code",
   "execution_count": 74,
   "id": "2f1ec0a4-0be1-4516-8c0c-f004f6526f93",
   "metadata": {},
   "outputs": [],
   "source": [
    "bins = [0,2500,4000,6000,81000]\n",
    "group= ['Low','Average','High','Very High']\n",
    "loan_1['TotalIncome_bin']=pd.cut(loan_1['TotalIncome'],bins,labels=group)"
   ]
  },
  {
   "cell_type": "code",
   "execution_count": 75,
   "id": "d7d0fb9a-958c-48bc-a455-281ae8ed53f2",
   "metadata": {},
   "outputs": [
    {
     "name": "stdout",
     "output_type": "stream",
     "text": [
      "Loan_Status       N    Y\n",
      "TotalIncome_bin         \n",
      "Low              14   10\n",
      "Average          32   87\n",
      "High             65  159\n",
      "Very High        81  166\n"
     ]
    },
    {
     "data": {
      "image/png": "[encoded data removed]",
      "text/plain": [
       "<Figure size 288x288 with 1 Axes>"
      ]
     },
     "metadata": {
      "needs_background": "light"
     },
     "output_type": "display_data"
    }
   ],
   "source": [
    "print(pd.crosstab(loan_1['TotalIncome_bin'],loan_1['Loan_Status']))\n",
    "TotalIncome=pd.crosstab(loan_1['TotalIncome_bin'],loan_1['Loan_Status'])\n",
    "TotalIncome.div(TotalIncome.sum(1).astype(float),axis=0).plot(kind='bar',stacked=True,figsize=(4,4))\n",
    "plt.xlabel('TotalIncome')\n",
    "plt.ylabel('Percentage')\n",
    "plt.show()"
   ]
  },
  {
   "cell_type": "code",
   "execution_count": 76,
   "id": "cdba1c71-9ac2-4660-9471-7f6602365157",
   "metadata": {},
   "outputs": [],
   "source": [
    "# We can see that the proportion of loan getting approved for applicants having low Total_Income is very less as compared to\n",
    "#that of applicant with Average,High,Very High Income."
   ]
  },
  {
   "cell_type": "code",
   "execution_count": 77,
   "id": "7a3d2c16-6f2b-49b8-b4bb-b9337b37c9b9",
   "metadata": {},
   "outputs": [],
   "source": [
    "# Relation between \"Loan_Status\" and \"Loan Amount\"\n",
    "bins=[0,100,200,700]\n",
    "group=['Low','Average','High']\n",
    "loan_1['LoanAmount_bin']=pd.cut(df['LoanAmount'],bins,labels=group)"
   ]
  },
  {
   "cell_type": "code",
   "execution_count": 78,
   "id": "b728af41-3320-455a-a65c-21ed249a7ec5",
   "metadata": {},
   "outputs": [
    {
     "name": "stdout",
     "output_type": "stream",
     "text": [
      "Loan_Status      N    Y\n",
      "LoanAmount_bin         \n",
      "Low             38   86\n",
      "Average         83  207\n",
      "High            27   39\n"
     ]
    },
    {
     "data": {
      "image/png": "[encoded data removed]",
      "text/plain": [
       "<Figure size 288x288 with 1 Axes>"
      ]
     },
     "metadata": {
      "needs_background": "light"
     },
     "output_type": "display_data"
    }
   ],
   "source": [
    "print(pd.crosstab(loan_1['LoanAmount_bin'],loan_1['Loan_Status']))\n",
    "LoanAmount = pd.crosstab(loan_1['LoanAmount_bin'],loan_1['Loan_Status'])\n",
    "LoanAmount.div(LoanAmount.sum(1).astype(float),axis=0).plot(kind='bar',stacked=True,figsize=(4,4))\n",
    "plt.xlabel('LoanAmount')\n",
    "plt.ylabel('loan_Status')\n",
    "plt.show()"
   ]
  },
  {
   "cell_type": "code",
   "execution_count": 79,
   "id": "672a7c49-2db9-47af-b991-5cd85ba6a341",
   "metadata": {},
   "outputs": [],
   "source": [
    "## It can be seen that the proportion of approved loans is higher for Low and Average Loan Amount as compared to that of \n",
    "## High Loan Amount which supports our hypothesis in which we considered that the chances of loan approval will be high when \n",
    "## the loan amount is less."
   ]
  },
  {
   "cell_type": "code",
   "execution_count": 80,
   "id": "a438fb9e-b30c-4aa7-8b6f-70ab2e9ed0f3",
   "metadata": {},
   "outputs": [],
   "source": [
    "# Let's drop bins which we created for the exploration part.\n",
    "\n",
    "loan_1=loan_1.drop(['Income_bin','CoapplicantIncome_bin','LoanAmount_bin','TotalIncome','TotalIncome_bin'],axis=1)"
   ]
  },
  {
   "cell_type": "code",
   "execution_count": 81,
   "id": "9c9daf4c-546a-4e3f-9f79-747ff2687519",
   "metadata": {},
   "outputs": [],
   "source": [
    "# We will change the 3+ in dependents variable to 3 to make it a numerical variable\n",
    "\n",
    "loan_1['Dependents'].replace('3+',3,inplace=True)\n",
    "\n",
    "loan_1.replace({\"Loan_Status\":{'N':0,'Y':1}},inplace=True)\n"
   ]
  },
  {
   "cell_type": "code",
   "execution_count": 82,
   "id": "c4bbb92d-5e07-4728-845d-35fe24ef5292",
   "metadata": {},
   "outputs": [
    {
     "data": {
      "text/plain": [
       "Gender               0.021173\n",
       "Married              0.004886\n",
       "Dependents           0.024430\n",
       "Education            0.000000\n",
       "Self_Employed        0.052117\n",
       "ApplicantIncome      0.000000\n",
       "CoapplicantIncome    0.000000\n",
       "LoanAmount           0.035831\n",
       "Loan_Amount_Term     0.022801\n",
       "Credit_History       0.081433\n",
       "Property_Area        0.000000\n",
       "Loan_Status          0.000000\n",
       "dtype: float64"
      ]
     },
     "execution_count": 82,
     "metadata": {},
     "output_type": "execute_result"
    }
   ],
   "source": [
    "#checking missing value\n",
    "loan_1.isnull().sum()/len(loan_1)"
   ]
  },
  {
   "cell_type": "code",
   "execution_count": 83,
   "id": "56f21007-b7d1-4e68-b8b7-acc398e806bf",
   "metadata": {},
   "outputs": [
    {
     "data": {
      "text/html": [
       "<div>\n",
       "<style scoped>\n",
       "    .dataframe tbody tr th:only-of-type {\n",
       "        vertical-align: middle;\n",
       "    }\n",
       "\n",
       "    .dataframe tbody tr th {\n",
       "        vertical-align: top;\n",
       "    }\n",
       "\n",
       "    .dataframe thead th {\n",
       "        text-align: right;\n",
       "    }\n",
       "</style>\n",
       "<table border=\"1\" class=\"dataframe\">\n",
       "  <thead>\n",
       "    <tr style=\"text-align: right;\">\n",
       "      <th></th>\n",
       "      <th>ApplicantIncome</th>\n",
       "      <th>CoapplicantIncome</th>\n",
       "      <th>LoanAmount</th>\n",
       "      <th>Loan_Amount_Term</th>\n",
       "      <th>Credit_History</th>\n",
       "      <th>Loan_Status</th>\n",
       "    </tr>\n",
       "  </thead>\n",
       "  <tbody>\n",
       "    <tr>\n",
       "      <th>count</th>\n",
       "      <td>614.000000</td>\n",
       "      <td>614.000000</td>\n",
       "      <td>592.000000</td>\n",
       "      <td>600.00000</td>\n",
       "      <td>564.000000</td>\n",
       "      <td>614.000000</td>\n",
       "    </tr>\n",
       "    <tr>\n",
       "      <th>mean</th>\n",
       "      <td>5403.459283</td>\n",
       "      <td>1621.245798</td>\n",
       "      <td>146.412162</td>\n",
       "      <td>342.00000</td>\n",
       "      <td>0.842199</td>\n",
       "      <td>0.687296</td>\n",
       "    </tr>\n",
       "    <tr>\n",
       "      <th>std</th>\n",
       "      <td>6109.041673</td>\n",
       "      <td>2926.248369</td>\n",
       "      <td>85.587325</td>\n",
       "      <td>65.12041</td>\n",
       "      <td>0.364878</td>\n",
       "      <td>0.463973</td>\n",
       "    </tr>\n",
       "    <tr>\n",
       "      <th>min</th>\n",
       "      <td>150.000000</td>\n",
       "      <td>0.000000</td>\n",
       "      <td>9.000000</td>\n",
       "      <td>12.00000</td>\n",
       "      <td>0.000000</td>\n",
       "      <td>0.000000</td>\n",
       "    </tr>\n",
       "    <tr>\n",
       "      <th>25%</th>\n",
       "      <td>2877.500000</td>\n",
       "      <td>0.000000</td>\n",
       "      <td>100.000000</td>\n",
       "      <td>360.00000</td>\n",
       "      <td>1.000000</td>\n",
       "      <td>0.000000</td>\n",
       "    </tr>\n",
       "    <tr>\n",
       "      <th>50%</th>\n",
       "      <td>3812.500000</td>\n",
       "      <td>1188.500000</td>\n",
       "      <td>128.000000</td>\n",
       "      <td>360.00000</td>\n",
       "      <td>1.000000</td>\n",
       "      <td>1.000000</td>\n",
       "    </tr>\n",
       "    <tr>\n",
       "      <th>75%</th>\n",
       "      <td>5795.000000</td>\n",
       "      <td>2297.250000</td>\n",
       "      <td>168.000000</td>\n",
       "      <td>360.00000</td>\n",
       "      <td>1.000000</td>\n",
       "      <td>1.000000</td>\n",
       "    </tr>\n",
       "    <tr>\n",
       "      <th>max</th>\n",
       "      <td>81000.000000</td>\n",
       "      <td>41667.000000</td>\n",
       "      <td>700.000000</td>\n",
       "      <td>480.00000</td>\n",
       "      <td>1.000000</td>\n",
       "      <td>1.000000</td>\n",
       "    </tr>\n",
       "  </tbody>\n",
       "</table>\n",
       "</div>"
      ],
      "text/plain": [
       "       ApplicantIncome  CoapplicantIncome  LoanAmount  Loan_Amount_Term  \\\n",
       "count       614.000000         614.000000  592.000000         600.00000   \n",
       "mean       5403.459283        1621.245798  146.412162         342.00000   \n",
       "std        6109.041673        2926.248369   85.587325          65.12041   \n",
       "min         150.000000           0.000000    9.000000          12.00000   \n",
       "25%        2877.500000           0.000000  100.000000         360.00000   \n",
       "50%        3812.500000        1188.500000  128.000000         360.00000   \n",
       "75%        5795.000000        2297.250000  168.000000         360.00000   \n",
       "max       81000.000000       41667.000000  700.000000         480.00000   \n",
       "\n",
       "       Credit_History  Loan_Status  \n",
       "count      564.000000   614.000000  \n",
       "mean         0.842199     0.687296  \n",
       "std          0.364878     0.463973  \n",
       "min          0.000000     0.000000  \n",
       "25%          1.000000     0.000000  \n",
       "50%          1.000000     1.000000  \n",
       "75%          1.000000     1.000000  \n",
       "max          1.000000     1.000000  "
      ]
     },
     "execution_count": 83,
     "metadata": {},
     "output_type": "execute_result"
    }
   ],
   "source": [
    "loan_1.describe()"
   ]
  },
  {
   "cell_type": "code",
   "execution_count": 84,
   "id": "760643b5-2680-46d1-b39c-c16c5772a8c5",
   "metadata": {},
   "outputs": [],
   "source": [
    "# missing value treatment \n",
    "\n",
    "#1. if missing percentage is greater than 50 just drop that variable \n",
    "#2. if missing percentage is less than 50 then we do missing value treatment \n",
    "    #a. if the varible is object replace the missing value with mode \n",
    "    #b. if the varible is numeric and there is no outliers then replace it with mean \n",
    "    #c. if the variable is numeric and there is an outliers then replace it with median "
   ]
  },
  {
   "cell_type": "code",
   "execution_count": 85,
   "id": "08e5aac3-88ab-42c7-9334-cc7803fb69ab",
   "metadata": {},
   "outputs": [
    {
     "name": "stdout",
     "output_type": "stream",
     "text": [
      "<class 'pandas.core.frame.DataFrame'>\n",
      "RangeIndex: 614 entries, 0 to 613\n",
      "Data columns (total 12 columns):\n",
      " #   Column             Non-Null Count  Dtype  \n",
      "---  ------             --------------  -----  \n",
      " 0   Gender             601 non-null    object \n",
      " 1   Married            611 non-null    object \n",
      " 2   Dependents         599 non-null    object \n",
      " 3   Education          614 non-null    object \n",
      " 4   Self_Employed      582 non-null    object \n",
      " 5   ApplicantIncome    614 non-null    int64  \n",
      " 6   CoapplicantIncome  614 non-null    float64\n",
      " 7   LoanAmount         592 non-null    float64\n",
      " 8   Loan_Amount_Term   600 non-null    float64\n",
      " 9   Credit_History     564 non-null    float64\n",
      " 10  Property_Area      614 non-null    object \n",
      " 11  Loan_Status        614 non-null    int64  \n",
      "dtypes: float64(4), int64(2), object(6)\n",
      "memory usage: 57.7+ KB\n"
     ]
    }
   ],
   "source": [
    "loan_1.info()"
   ]
  },
  {
   "cell_type": "code",
   "execution_count": 86,
   "id": "f11dc5e1-e180-41b4-9026-61f538868d31",
   "metadata": {},
   "outputs": [],
   "source": [
    "#  handle object missing data\n",
    "loan_1['Gender'].fillna(loan_1['Gender'].value_counts().idxmax(), inplace=True)\n",
    "\n",
    "loan_1['Married'].fillna(loan_1['Married'].value_counts().idxmax(), inplace=True)\n",
    "\n",
    "loan_1['Dependents'].fillna(loan_1['Dependents'].value_counts().idxmax(), inplace=True)\n",
    "\n",
    "loan_1['Self_Employed'].fillna(loan_1['Self_Employed'].value_counts().idxmax(), inplace=True)\n",
    "\n",
    "loan_1['Credit_History'].fillna(loan_1['Credit_History'].value_counts().idxmax(),inplace=True)\n",
    "\n",
    "loan_1['Loan_Amount_Term'].fillna(loan_1['Loan_Amount_Term'].value_counts().idxmax(), inplace=True)\n",
    "\n",
    "# handle numerical missing data\n",
    "\n",
    "loan_1['LoanAmount'].fillna(loan_1['LoanAmount'].median(skipna=True), inplace=True)\n",
    "\n",
    "\n"
   ]
  },
  {
   "cell_type": "code",
   "execution_count": 87,
   "id": "64519733-9559-4efe-9cf2-e3b8b3f545e9",
   "metadata": {},
   "outputs": [],
   "source": [
    "# This is another way to select mode:\n",
    "#loan_1[\"Credit_History\"].fillna(loan_1[\"Credit_History\"].mode()[0],inplace=True)"
   ]
  },
  {
   "cell_type": "code",
   "execution_count": 88,
   "id": "89a9ba93-aa07-4839-91ec-e74f47b75c1e",
   "metadata": {},
   "outputs": [
    {
     "data": {
      "text/plain": [
       "Gender               0\n",
       "Married              0\n",
       "Dependents           0\n",
       "Education            0\n",
       "Self_Employed        0\n",
       "ApplicantIncome      0\n",
       "CoapplicantIncome    0\n",
       "LoanAmount           0\n",
       "Loan_Amount_Term     0\n",
       "Credit_History       0\n",
       "Property_Area        0\n",
       "Loan_Status          0\n",
       "dtype: int64"
      ]
     },
     "execution_count": 88,
     "metadata": {},
     "output_type": "execute_result"
    }
   ],
   "source": [
    "loan_1.isnull().sum()"
   ]
  },
  {
   "cell_type": "code",
   "execution_count": 89,
   "id": "fe63c03e-f199-40d4-8286-3eb67ace567a",
   "metadata": {},
   "outputs": [
    {
     "name": "stderr",
     "output_type": "stream",
     "text": [
      "C:\\Intel\\python\\lib\\site-packages\\seaborn\\distributions.py:2619: FutureWarning: `distplot` is a deprecated function and will be removed in a future version. Please adapt your code to use either `displot` (a figure-level function with similar flexibility) or `histplot` (an axes-level function for histograms).\n",
      "  warnings.warn(msg, FutureWarning)\n"
     ]
    },
    {
     "data": {
      "image/png": "[encoded data removed]",
      "text/plain": [
       "<Figure size 432x288 with 1 Axes>"
      ]
     },
     "metadata": {
      "needs_background": "light"
     },
     "output_type": "display_data"
    }
   ],
   "source": [
    "sns.distplot(loan_1[\"LoanAmount\"]);"
   ]
  },
  {
   "cell_type": "markdown",
   "id": "569d08ca-518f-40f4-8726-21dbaa51fa2c",
   "metadata": {},
   "source": [
    "##Due to these outliers bulk of the data in the loan amount is at the left and the right tail is longer. This is called right skewness.\n",
    "\n",
    "One way to remove the skewness is by doing the log transformation. As we take the log transformation, it does not affect the smaller values much, but reduces the larger values.\n",
    "\n",
    "So, we get a distribution similar to normal distribution."
   ]
  },
  {
   "cell_type": "code",
   "execution_count": 90,
   "id": "41393d1d-a4d7-4dde-a852-d513bb0e7267",
   "metadata": {},
   "outputs": [
    {
     "name": "stderr",
     "output_type": "stream",
     "text": [
      "C:\\Intel\\python\\lib\\site-packages\\seaborn\\distributions.py:2619: FutureWarning: `distplot` is a deprecated function and will be removed in a future version. Please adapt your code to use either `displot` (a figure-level function with similar flexibility) or `histplot` (an axes-level function for histograms).\n",
      "  warnings.warn(msg, FutureWarning)\n"
     ]
    },
    {
     "data": {
      "text/plain": [
       "<AxesSubplot:xlabel='LoanAmount_log', ylabel='Density'>"
      ]
     },
     "execution_count": 90,
     "metadata": {},
     "output_type": "execute_result"
    },
    {
     "data": {
      "image/png": "[encoded data removed]",
      "text/plain": [
       "<Figure size 432x288 with 1 Axes>"
      ]
     },
     "metadata": {
      "needs_background": "light"
     },
     "output_type": "display_data"
    }
   ],
   "source": [
    "loan_1['LoanAmount_log']=np.log(loan_1['LoanAmount'])\n",
    "sns.distplot(loan_1['LoanAmount_log'])"
   ]
  },
  {
   "cell_type": "markdown",
   "id": "27b5a9de-71bd-4581-b077-b632e541801d",
   "metadata": {
    "tags": []
   },
   "source": [
    "## Model Building"
   ]
  },
  {
   "cell_type": "markdown",
   "id": "a206458b-32d1-499e-9f08-63772e21d33c",
   "metadata": {},
   "source": [
    "##We will build the following models in this section.\n",
    "\n",
    "i)Logistic Regression\n",
    "\n",
    "ii)Decision Tree\n",
    "\n",
    "iii)Random Forest\n",
    "\n",
    "\n",
    "Let’s prepare the data for feeding into the models.\n",
    "Let's drop the \"Loan_ID\" variable as it do not have any effect on the loan status.\n",
    "We will do the same changes to the test dataset which we did for the training dataset."
   ]
  },
  {
   "cell_type": "code",
   "execution_count": 91,
   "id": "5cc05f3b-6099-4c87-8833-27bc57b42cae",
   "metadata": {},
   "outputs": [
    {
     "data": {
      "text/html": [
       "<div>\n",
       "<style scoped>\n",
       "    .dataframe tbody tr th:only-of-type {\n",
       "        vertical-align: middle;\n",
       "    }\n",
       "\n",
       "    .dataframe tbody tr th {\n",
       "        vertical-align: top;\n",
       "    }\n",
       "\n",
       "    .dataframe thead th {\n",
       "        text-align: right;\n",
       "    }\n",
       "</style>\n",
       "<table border=\"1\" class=\"dataframe\">\n",
       "  <thead>\n",
       "    <tr style=\"text-align: right;\">\n",
       "      <th></th>\n",
       "      <th>Gender</th>\n",
       "      <th>Married</th>\n",
       "      <th>Dependents</th>\n",
       "      <th>Education</th>\n",
       "      <th>Self_Employed</th>\n",
       "      <th>ApplicantIncome</th>\n",
       "      <th>CoapplicantIncome</th>\n",
       "      <th>LoanAmount</th>\n",
       "      <th>Loan_Amount_Term</th>\n",
       "      <th>Credit_History</th>\n",
       "      <th>Property_Area</th>\n",
       "      <th>Loan_Status</th>\n",
       "      <th>LoanAmount_log</th>\n",
       "    </tr>\n",
       "  </thead>\n",
       "  <tbody>\n",
       "    <tr>\n",
       "      <th>0</th>\n",
       "      <td>Male</td>\n",
       "      <td>No</td>\n",
       "      <td>0</td>\n",
       "      <td>Graduate</td>\n",
       "      <td>No</td>\n",
       "      <td>5849</td>\n",
       "      <td>0.0</td>\n",
       "      <td>128.0</td>\n",
       "      <td>360.0</td>\n",
       "      <td>1.0</td>\n",
       "      <td>Urban</td>\n",
       "      <td>1</td>\n",
       "      <td>4.852030</td>\n",
       "    </tr>\n",
       "    <tr>\n",
       "      <th>1</th>\n",
       "      <td>Male</td>\n",
       "      <td>Yes</td>\n",
       "      <td>1</td>\n",
       "      <td>Graduate</td>\n",
       "      <td>No</td>\n",
       "      <td>4583</td>\n",
       "      <td>1508.0</td>\n",
       "      <td>128.0</td>\n",
       "      <td>360.0</td>\n",
       "      <td>1.0</td>\n",
       "      <td>Rural</td>\n",
       "      <td>0</td>\n",
       "      <td>4.852030</td>\n",
       "    </tr>\n",
       "    <tr>\n",
       "      <th>2</th>\n",
       "      <td>Male</td>\n",
       "      <td>Yes</td>\n",
       "      <td>0</td>\n",
       "      <td>Graduate</td>\n",
       "      <td>Yes</td>\n",
       "      <td>3000</td>\n",
       "      <td>0.0</td>\n",
       "      <td>66.0</td>\n",
       "      <td>360.0</td>\n",
       "      <td>1.0</td>\n",
       "      <td>Urban</td>\n",
       "      <td>1</td>\n",
       "      <td>4.189655</td>\n",
       "    </tr>\n",
       "    <tr>\n",
       "      <th>3</th>\n",
       "      <td>Male</td>\n",
       "      <td>Yes</td>\n",
       "      <td>0</td>\n",
       "      <td>Not Graduate</td>\n",
       "      <td>No</td>\n",
       "      <td>2583</td>\n",
       "      <td>2358.0</td>\n",
       "      <td>120.0</td>\n",
       "      <td>360.0</td>\n",
       "      <td>1.0</td>\n",
       "      <td>Urban</td>\n",
       "      <td>1</td>\n",
       "      <td>4.787492</td>\n",
       "    </tr>\n",
       "    <tr>\n",
       "      <th>4</th>\n",
       "      <td>Male</td>\n",
       "      <td>No</td>\n",
       "      <td>0</td>\n",
       "      <td>Graduate</td>\n",
       "      <td>No</td>\n",
       "      <td>6000</td>\n",
       "      <td>0.0</td>\n",
       "      <td>141.0</td>\n",
       "      <td>360.0</td>\n",
       "      <td>1.0</td>\n",
       "      <td>Urban</td>\n",
       "      <td>1</td>\n",
       "      <td>4.948760</td>\n",
       "    </tr>\n",
       "  </tbody>\n",
       "</table>\n",
       "</div>"
      ],
      "text/plain": [
       "  Gender Married Dependents     Education Self_Employed  ApplicantIncome  \\\n",
       "0   Male      No          0      Graduate            No             5849   \n",
       "1   Male     Yes          1      Graduate            No             4583   \n",
       "2   Male     Yes          0      Graduate           Yes             3000   \n",
       "3   Male     Yes          0  Not Graduate            No             2583   \n",
       "4   Male      No          0      Graduate            No             6000   \n",
       "\n",
       "   CoapplicantIncome  LoanAmount  Loan_Amount_Term  Credit_History  \\\n",
       "0                0.0       128.0             360.0             1.0   \n",
       "1             1508.0       128.0             360.0             1.0   \n",
       "2                0.0        66.0             360.0             1.0   \n",
       "3             2358.0       120.0             360.0             1.0   \n",
       "4                0.0       141.0             360.0             1.0   \n",
       "\n",
       "  Property_Area  Loan_Status  LoanAmount_log  \n",
       "0         Urban            1        4.852030  \n",
       "1         Rural            0        4.852030  \n",
       "2         Urban            1        4.189655  \n",
       "3         Urban            1        4.787492  \n",
       "4         Urban            1        4.948760  "
      ]
     },
     "execution_count": 91,
     "metadata": {},
     "output_type": "execute_result"
    }
   ],
   "source": [
    "loan_1.head()"
   ]
  },
  {
   "cell_type": "code",
   "execution_count": 92,
   "id": "9e5bb948-3cc4-47f7-8f57-793776dee020",
   "metadata": {},
   "outputs": [],
   "source": [
    "loan_1.drop(['LoanAmount'],axis=1,inplace=True)"
   ]
  },
  {
   "cell_type": "code",
   "execution_count": 93,
   "id": "b4712a44-4bbd-4a9d-880a-22118d2f996d",
   "metadata": {},
   "outputs": [],
   "source": [
    "x = loan_1.drop(columns=['Loan_Status'],axis=1)"
   ]
  },
  {
   "cell_type": "code",
   "execution_count": 94,
   "id": "41b704b7-bc3a-4e79-8258-b4094e8cd2cc",
   "metadata": {},
   "outputs": [
    {
     "data": {
      "text/html": [
       "<div>\n",
       "<style scoped>\n",
       "    .dataframe tbody tr th:only-of-type {\n",
       "        vertical-align: middle;\n",
       "    }\n",
       "\n",
       "    .dataframe tbody tr th {\n",
       "        vertical-align: top;\n",
       "    }\n",
       "\n",
       "    .dataframe thead th {\n",
       "        text-align: right;\n",
       "    }\n",
       "</style>\n",
       "<table border=\"1\" class=\"dataframe\">\n",
       "  <thead>\n",
       "    <tr style=\"text-align: right;\">\n",
       "      <th></th>\n",
       "      <th>Gender</th>\n",
       "      <th>Married</th>\n",
       "      <th>Dependents</th>\n",
       "      <th>Education</th>\n",
       "      <th>Self_Employed</th>\n",
       "      <th>ApplicantIncome</th>\n",
       "      <th>CoapplicantIncome</th>\n",
       "      <th>Loan_Amount_Term</th>\n",
       "      <th>Credit_History</th>\n",
       "      <th>Property_Area</th>\n",
       "      <th>LoanAmount_log</th>\n",
       "    </tr>\n",
       "  </thead>\n",
       "  <tbody>\n",
       "    <tr>\n",
       "      <th>0</th>\n",
       "      <td>Male</td>\n",
       "      <td>No</td>\n",
       "      <td>0</td>\n",
       "      <td>Graduate</td>\n",
       "      <td>No</td>\n",
       "      <td>5849</td>\n",
       "      <td>0.0</td>\n",
       "      <td>360.0</td>\n",
       "      <td>1.0</td>\n",
       "      <td>Urban</td>\n",
       "      <td>4.852030</td>\n",
       "    </tr>\n",
       "    <tr>\n",
       "      <th>1</th>\n",
       "      <td>Male</td>\n",
       "      <td>Yes</td>\n",
       "      <td>1</td>\n",
       "      <td>Graduate</td>\n",
       "      <td>No</td>\n",
       "      <td>4583</td>\n",
       "      <td>1508.0</td>\n",
       "      <td>360.0</td>\n",
       "      <td>1.0</td>\n",
       "      <td>Rural</td>\n",
       "      <td>4.852030</td>\n",
       "    </tr>\n",
       "    <tr>\n",
       "      <th>2</th>\n",
       "      <td>Male</td>\n",
       "      <td>Yes</td>\n",
       "      <td>0</td>\n",
       "      <td>Graduate</td>\n",
       "      <td>Yes</td>\n",
       "      <td>3000</td>\n",
       "      <td>0.0</td>\n",
       "      <td>360.0</td>\n",
       "      <td>1.0</td>\n",
       "      <td>Urban</td>\n",
       "      <td>4.189655</td>\n",
       "    </tr>\n",
       "    <tr>\n",
       "      <th>3</th>\n",
       "      <td>Male</td>\n",
       "      <td>Yes</td>\n",
       "      <td>0</td>\n",
       "      <td>Not Graduate</td>\n",
       "      <td>No</td>\n",
       "      <td>2583</td>\n",
       "      <td>2358.0</td>\n",
       "      <td>360.0</td>\n",
       "      <td>1.0</td>\n",
       "      <td>Urban</td>\n",
       "      <td>4.787492</td>\n",
       "    </tr>\n",
       "    <tr>\n",
       "      <th>4</th>\n",
       "      <td>Male</td>\n",
       "      <td>No</td>\n",
       "      <td>0</td>\n",
       "      <td>Graduate</td>\n",
       "      <td>No</td>\n",
       "      <td>6000</td>\n",
       "      <td>0.0</td>\n",
       "      <td>360.0</td>\n",
       "      <td>1.0</td>\n",
       "      <td>Urban</td>\n",
       "      <td>4.948760</td>\n",
       "    </tr>\n",
       "  </tbody>\n",
       "</table>\n",
       "</div>"
      ],
      "text/plain": [
       "  Gender Married Dependents     Education Self_Employed  ApplicantIncome  \\\n",
       "0   Male      No          0      Graduate            No             5849   \n",
       "1   Male     Yes          1      Graduate            No             4583   \n",
       "2   Male     Yes          0      Graduate           Yes             3000   \n",
       "3   Male     Yes          0  Not Graduate            No             2583   \n",
       "4   Male      No          0      Graduate            No             6000   \n",
       "\n",
       "   CoapplicantIncome  Loan_Amount_Term  Credit_History Property_Area  \\\n",
       "0                0.0             360.0             1.0         Urban   \n",
       "1             1508.0             360.0             1.0         Rural   \n",
       "2                0.0             360.0             1.0         Urban   \n",
       "3             2358.0             360.0             1.0         Urban   \n",
       "4                0.0             360.0             1.0         Urban   \n",
       "\n",
       "   LoanAmount_log  \n",
       "0        4.852030  \n",
       "1        4.852030  \n",
       "2        4.189655  \n",
       "3        4.787492  \n",
       "4        4.948760  "
      ]
     },
     "execution_count": 94,
     "metadata": {},
     "output_type": "execute_result"
    }
   ],
   "source": [
    "x.head()"
   ]
  },
  {
   "cell_type": "code",
   "execution_count": 95,
   "id": "2218cba0-cf5e-4882-9e52-eb9488f449e7",
   "metadata": {},
   "outputs": [],
   "source": [
    "y = loan_1['Loan_Status']"
   ]
  },
  {
   "cell_type": "code",
   "execution_count": 96,
   "id": "857d8835-760b-4307-9da4-522d3f6443ce",
   "metadata": {},
   "outputs": [
    {
     "data": {
      "text/plain": [
       "0    1\n",
       "1    0\n",
       "2    1\n",
       "3    1\n",
       "4    1\n",
       "Name: Loan_Status, dtype: int64"
      ]
     },
     "execution_count": 96,
     "metadata": {},
     "output_type": "execute_result"
    }
   ],
   "source": [
    "y.head()"
   ]
  },
  {
   "cell_type": "code",
   "execution_count": 97,
   "id": "63924d9a-9824-4d97-ac20-877e49e3464e",
   "metadata": {},
   "outputs": [],
   "source": [
    "x = pd.get_dummies(x)"
   ]
  },
  {
   "cell_type": "code",
   "execution_count": 98,
   "id": "34b21385-b259-4a8a-8e2b-d46e0483b8b2",
   "metadata": {},
   "outputs": [
    {
     "data": {
      "text/html": [
       "<div>\n",
       "<style scoped>\n",
       "    .dataframe tbody tr th:only-of-type {\n",
       "        vertical-align: middle;\n",
       "    }\n",
       "\n",
       "    .dataframe tbody tr th {\n",
       "        vertical-align: top;\n",
       "    }\n",
       "\n",
       "    .dataframe thead th {\n",
       "        text-align: right;\n",
       "    }\n",
       "</style>\n",
       "<table border=\"1\" class=\"dataframe\">\n",
       "  <thead>\n",
       "    <tr style=\"text-align: right;\">\n",
       "      <th></th>\n",
       "      <th>ApplicantIncome</th>\n",
       "      <th>CoapplicantIncome</th>\n",
       "      <th>Loan_Amount_Term</th>\n",
       "      <th>Credit_History</th>\n",
       "      <th>LoanAmount_log</th>\n",
       "      <th>Gender_Female</th>\n",
       "      <th>Gender_Male</th>\n",
       "      <th>Married_No</th>\n",
       "      <th>Married_Yes</th>\n",
       "      <th>Dependents_3</th>\n",
       "      <th>Dependents_0</th>\n",
       "      <th>Dependents_1</th>\n",
       "      <th>Dependents_2</th>\n",
       "      <th>Education_Graduate</th>\n",
       "      <th>Education_Not Graduate</th>\n",
       "      <th>Self_Employed_No</th>\n",
       "      <th>Self_Employed_Yes</th>\n",
       "      <th>Property_Area_Rural</th>\n",
       "      <th>Property_Area_Semiurban</th>\n",
       "      <th>Property_Area_Urban</th>\n",
       "    </tr>\n",
       "  </thead>\n",
       "  <tbody>\n",
       "    <tr>\n",
       "      <th>0</th>\n",
       "      <td>5849</td>\n",
       "      <td>0.0</td>\n",
       "      <td>360.0</td>\n",
       "      <td>1.0</td>\n",
       "      <td>4.852030</td>\n",
       "      <td>0</td>\n",
       "      <td>1</td>\n",
       "      <td>1</td>\n",
       "      <td>0</td>\n",
       "      <td>0</td>\n",
       "      <td>1</td>\n",
       "      <td>0</td>\n",
       "      <td>0</td>\n",
       "      <td>1</td>\n",
       "      <td>0</td>\n",
       "      <td>1</td>\n",
       "      <td>0</td>\n",
       "      <td>0</td>\n",
       "      <td>0</td>\n",
       "      <td>1</td>\n",
       "    </tr>\n",
       "    <tr>\n",
       "      <th>1</th>\n",
       "      <td>4583</td>\n",
       "      <td>1508.0</td>\n",
       "      <td>360.0</td>\n",
       "      <td>1.0</td>\n",
       "      <td>4.852030</td>\n",
       "      <td>0</td>\n",
       "      <td>1</td>\n",
       "      <td>0</td>\n",
       "      <td>1</td>\n",
       "      <td>0</td>\n",
       "      <td>0</td>\n",
       "      <td>1</td>\n",
       "      <td>0</td>\n",
       "      <td>1</td>\n",
       "      <td>0</td>\n",
       "      <td>1</td>\n",
       "      <td>0</td>\n",
       "      <td>1</td>\n",
       "      <td>0</td>\n",
       "      <td>0</td>\n",
       "    </tr>\n",
       "    <tr>\n",
       "      <th>2</th>\n",
       "      <td>3000</td>\n",
       "      <td>0.0</td>\n",
       "      <td>360.0</td>\n",
       "      <td>1.0</td>\n",
       "      <td>4.189655</td>\n",
       "      <td>0</td>\n",
       "      <td>1</td>\n",
       "      <td>0</td>\n",
       "      <td>1</td>\n",
       "      <td>0</td>\n",
       "      <td>1</td>\n",
       "      <td>0</td>\n",
       "      <td>0</td>\n",
       "      <td>1</td>\n",
       "      <td>0</td>\n",
       "      <td>0</td>\n",
       "      <td>1</td>\n",
       "      <td>0</td>\n",
       "      <td>0</td>\n",
       "      <td>1</td>\n",
       "    </tr>\n",
       "    <tr>\n",
       "      <th>3</th>\n",
       "      <td>2583</td>\n",
       "      <td>2358.0</td>\n",
       "      <td>360.0</td>\n",
       "      <td>1.0</td>\n",
       "      <td>4.787492</td>\n",
       "      <td>0</td>\n",
       "      <td>1</td>\n",
       "      <td>0</td>\n",
       "      <td>1</td>\n",
       "      <td>0</td>\n",
       "      <td>1</td>\n",
       "      <td>0</td>\n",
       "      <td>0</td>\n",
       "      <td>0</td>\n",
       "      <td>1</td>\n",
       "      <td>1</td>\n",
       "      <td>0</td>\n",
       "      <td>0</td>\n",
       "      <td>0</td>\n",
       "      <td>1</td>\n",
       "    </tr>\n",
       "    <tr>\n",
       "      <th>4</th>\n",
       "      <td>6000</td>\n",
       "      <td>0.0</td>\n",
       "      <td>360.0</td>\n",
       "      <td>1.0</td>\n",
       "      <td>4.948760</td>\n",
       "      <td>0</td>\n",
       "      <td>1</td>\n",
       "      <td>1</td>\n",
       "      <td>0</td>\n",
       "      <td>0</td>\n",
       "      <td>1</td>\n",
       "      <td>0</td>\n",
       "      <td>0</td>\n",
       "      <td>1</td>\n",
       "      <td>0</td>\n",
       "      <td>1</td>\n",
       "      <td>0</td>\n",
       "      <td>0</td>\n",
       "      <td>0</td>\n",
       "      <td>1</td>\n",
       "    </tr>\n",
       "  </tbody>\n",
       "</table>\n",
       "</div>"
      ],
      "text/plain": [
       "   ApplicantIncome  CoapplicantIncome  Loan_Amount_Term  Credit_History  \\\n",
       "0             5849                0.0             360.0             1.0   \n",
       "1             4583             1508.0             360.0             1.0   \n",
       "2             3000                0.0             360.0             1.0   \n",
       "3             2583             2358.0             360.0             1.0   \n",
       "4             6000                0.0             360.0             1.0   \n",
       "\n",
       "   LoanAmount_log  Gender_Female  Gender_Male  Married_No  Married_Yes  \\\n",
       "0        4.852030              0            1           1            0   \n",
       "1        4.852030              0            1           0            1   \n",
       "2        4.189655              0            1           0            1   \n",
       "3        4.787492              0            1           0            1   \n",
       "4        4.948760              0            1           1            0   \n",
       "\n",
       "   Dependents_3  Dependents_0  Dependents_1  Dependents_2  Education_Graduate  \\\n",
       "0             0             1             0             0                   1   \n",
       "1             0             0             1             0                   1   \n",
       "2             0             1             0             0                   1   \n",
       "3             0             1             0             0                   0   \n",
       "4             0             1             0             0                   1   \n",
       "\n",
       "   Education_Not Graduate  Self_Employed_No  Self_Employed_Yes  \\\n",
       "0                       0                 1                  0   \n",
       "1                       0                 1                  0   \n",
       "2                       0                 0                  1   \n",
       "3                       1                 1                  0   \n",
       "4                       0                 1                  0   \n",
       "\n",
       "   Property_Area_Rural  Property_Area_Semiurban  Property_Area_Urban  \n",
       "0                    0                        0                    1  \n",
       "1                    1                        0                    0  \n",
       "2                    0                        0                    1  \n",
       "3                    0                        0                    1  \n",
       "4                    0                        0                    1  "
      ]
     },
     "execution_count": 98,
     "metadata": {},
     "output_type": "execute_result"
    }
   ],
   "source": [
    "x.head()"
   ]
  },
  {
   "cell_type": "code",
   "execution_count": 99,
   "id": "dd73f3a6-79d9-488d-8068-30926cba77ec",
   "metadata": {},
   "outputs": [
    {
     "data": {
      "text/plain": [
       "(614, 20)"
      ]
     },
     "execution_count": 99,
     "metadata": {},
     "output_type": "execute_result"
    }
   ],
   "source": [
    "x.shape"
   ]
  },
  {
   "cell_type": "code",
   "execution_count": 100,
   "id": "4150081f-b8e7-4a0f-a3ef-cc8c49515a4c",
   "metadata": {},
   "outputs": [
    {
     "data": {
      "text/plain": [
       "(614,)"
      ]
     },
     "execution_count": 100,
     "metadata": {},
     "output_type": "execute_result"
    }
   ],
   "source": [
    "y.shape"
   ]
  },
  {
   "cell_type": "markdown",
   "id": "6d9cd192-2a8a-49ee-8e2f-80e9a4407d8b",
   "metadata": {},
   "source": [
    "## Logistic Regression"
   ]
  },
  {
   "cell_type": "code",
   "execution_count": 101,
   "id": "43cd5482-85e1-4550-b87b-7e8cff1846f2",
   "metadata": {},
   "outputs": [],
   "source": [
    "from sklearn.model_selection import train_test_split\n",
    "x_train, x_test, y_train, y_test = train_test_split(x, y,train_size = 0.7,test_size = 0.3)"
   ]
  },
  {
   "cell_type": "code",
   "execution_count": 102,
   "id": "782eab91-7271-4c19-be79-52c7e56ea690",
   "metadata": {},
   "outputs": [
    {
     "data": {
      "text/plain": [
       "(429, 20)"
      ]
     },
     "execution_count": 102,
     "metadata": {},
     "output_type": "execute_result"
    }
   ],
   "source": [
    "x_train.shape"
   ]
  },
  {
   "cell_type": "code",
   "execution_count": 103,
   "id": "0906e6c9-ae9a-4347-95b8-ef5a35d05f15",
   "metadata": {},
   "outputs": [
    {
     "data": {
      "text/plain": [
       "(185, 20)"
      ]
     },
     "execution_count": 103,
     "metadata": {},
     "output_type": "execute_result"
    }
   ],
   "source": [
    "x_test.shape"
   ]
  },
  {
   "cell_type": "code",
   "execution_count": 104,
   "id": "eae41885-d2f9-47ec-b6b4-78d34250ddc5",
   "metadata": {},
   "outputs": [],
   "source": [
    "# Model building\n",
    "import statsmodels.api as sm"
   ]
  },
  {
   "cell_type": "code",
   "execution_count": 105,
   "id": "484d6e8c-4479-417e-a3b8-aeb44a894240",
   "metadata": {},
   "outputs": [
    {
     "name": "stdout",
     "output_type": "stream",
     "text": [
      "Warning: Maximum number of iterations has been exceeded.\n",
      "         Current function value: 0.433815\n",
      "         Iterations: 35\n"
     ]
    },
    {
     "name": "stderr",
     "output_type": "stream",
     "text": [
      "C:\\Intel\\python\\lib\\site-packages\\statsmodels\\base\\model.py:604: ConvergenceWarning: Maximum Likelihood optimization failed to converge. Check mle_retvals\n",
      "  warnings.warn(\"Maximum Likelihood optimization failed to \"\n"
     ]
    },
    {
     "data": {
      "text/html": [
       "<div>\n",
       "<style scoped>\n",
       "    .dataframe tbody tr th:only-of-type {\n",
       "        vertical-align: middle;\n",
       "    }\n",
       "\n",
       "    .dataframe tbody tr th {\n",
       "        vertical-align: top;\n",
       "    }\n",
       "\n",
       "    .dataframe thead th {\n",
       "        text-align: right;\n",
       "    }\n",
       "</style>\n",
       "<table border=\"1\" class=\"dataframe\">\n",
       "  <thead>\n",
       "    <tr style=\"text-align: right;\">\n",
       "      <th></th>\n",
       "      <th>const</th>\n",
       "      <th>ApplicantIncome</th>\n",
       "      <th>CoapplicantIncome</th>\n",
       "      <th>Loan_Amount_Term</th>\n",
       "      <th>Credit_History</th>\n",
       "      <th>LoanAmount_log</th>\n",
       "      <th>Gender_Female</th>\n",
       "      <th>Gender_Male</th>\n",
       "      <th>Married_No</th>\n",
       "      <th>Married_Yes</th>\n",
       "      <th>...</th>\n",
       "      <th>Dependents_0</th>\n",
       "      <th>Dependents_1</th>\n",
       "      <th>Dependents_2</th>\n",
       "      <th>Education_Graduate</th>\n",
       "      <th>Education_Not Graduate</th>\n",
       "      <th>Self_Employed_No</th>\n",
       "      <th>Self_Employed_Yes</th>\n",
       "      <th>Property_Area_Rural</th>\n",
       "      <th>Property_Area_Semiurban</th>\n",
       "      <th>Property_Area_Urban</th>\n",
       "    </tr>\n",
       "  </thead>\n",
       "  <tbody>\n",
       "    <tr>\n",
       "      <th>170</th>\n",
       "      <td>1.0</td>\n",
       "      <td>1820</td>\n",
       "      <td>1769.0</td>\n",
       "      <td>360.0</td>\n",
       "      <td>1.0</td>\n",
       "      <td>4.553877</td>\n",
       "      <td>0</td>\n",
       "      <td>1</td>\n",
       "      <td>0</td>\n",
       "      <td>1</td>\n",
       "      <td>...</td>\n",
       "      <td>1</td>\n",
       "      <td>0</td>\n",
       "      <td>0</td>\n",
       "      <td>0</td>\n",
       "      <td>1</td>\n",
       "      <td>1</td>\n",
       "      <td>0</td>\n",
       "      <td>1</td>\n",
       "      <td>0</td>\n",
       "      <td>0</td>\n",
       "    </tr>\n",
       "    <tr>\n",
       "      <th>16</th>\n",
       "      <td>1.0</td>\n",
       "      <td>3596</td>\n",
       "      <td>0.0</td>\n",
       "      <td>240.0</td>\n",
       "      <td>1.0</td>\n",
       "      <td>4.605170</td>\n",
       "      <td>0</td>\n",
       "      <td>1</td>\n",
       "      <td>1</td>\n",
       "      <td>0</td>\n",
       "      <td>...</td>\n",
       "      <td>0</td>\n",
       "      <td>1</td>\n",
       "      <td>0</td>\n",
       "      <td>0</td>\n",
       "      <td>1</td>\n",
       "      <td>1</td>\n",
       "      <td>0</td>\n",
       "      <td>0</td>\n",
       "      <td>0</td>\n",
       "      <td>1</td>\n",
       "    </tr>\n",
       "    <tr>\n",
       "      <th>568</th>\n",
       "      <td>1.0</td>\n",
       "      <td>2378</td>\n",
       "      <td>0.0</td>\n",
       "      <td>360.0</td>\n",
       "      <td>1.0</td>\n",
       "      <td>2.197225</td>\n",
       "      <td>1</td>\n",
       "      <td>0</td>\n",
       "      <td>1</td>\n",
       "      <td>0</td>\n",
       "      <td>...</td>\n",
       "      <td>1</td>\n",
       "      <td>0</td>\n",
       "      <td>0</td>\n",
       "      <td>1</td>\n",
       "      <td>0</td>\n",
       "      <td>1</td>\n",
       "      <td>0</td>\n",
       "      <td>0</td>\n",
       "      <td>0</td>\n",
       "      <td>1</td>\n",
       "    </tr>\n",
       "    <tr>\n",
       "      <th>601</th>\n",
       "      <td>1.0</td>\n",
       "      <td>2894</td>\n",
       "      <td>2792.0</td>\n",
       "      <td>360.0</td>\n",
       "      <td>1.0</td>\n",
       "      <td>5.043425</td>\n",
       "      <td>0</td>\n",
       "      <td>1</td>\n",
       "      <td>0</td>\n",
       "      <td>1</td>\n",
       "      <td>...</td>\n",
       "      <td>1</td>\n",
       "      <td>0</td>\n",
       "      <td>0</td>\n",
       "      <td>0</td>\n",
       "      <td>1</td>\n",
       "      <td>1</td>\n",
       "      <td>0</td>\n",
       "      <td>1</td>\n",
       "      <td>0</td>\n",
       "      <td>0</td>\n",
       "    </tr>\n",
       "    <tr>\n",
       "      <th>179</th>\n",
       "      <td>1.0</td>\n",
       "      <td>2333</td>\n",
       "      <td>1451.0</td>\n",
       "      <td>480.0</td>\n",
       "      <td>0.0</td>\n",
       "      <td>4.624973</td>\n",
       "      <td>0</td>\n",
       "      <td>1</td>\n",
       "      <td>1</td>\n",
       "      <td>0</td>\n",
       "      <td>...</td>\n",
       "      <td>1</td>\n",
       "      <td>0</td>\n",
       "      <td>0</td>\n",
       "      <td>0</td>\n",
       "      <td>1</td>\n",
       "      <td>1</td>\n",
       "      <td>0</td>\n",
       "      <td>0</td>\n",
       "      <td>0</td>\n",
       "      <td>1</td>\n",
       "    </tr>\n",
       "    <tr>\n",
       "      <th>...</th>\n",
       "      <td>...</td>\n",
       "      <td>...</td>\n",
       "      <td>...</td>\n",
       "      <td>...</td>\n",
       "      <td>...</td>\n",
       "      <td>...</td>\n",
       "      <td>...</td>\n",
       "      <td>...</td>\n",
       "      <td>...</td>\n",
       "      <td>...</td>\n",
       "      <td>...</td>\n",
       "      <td>...</td>\n",
       "      <td>...</td>\n",
       "      <td>...</td>\n",
       "      <td>...</td>\n",
       "      <td>...</td>\n",
       "      <td>...</td>\n",
       "      <td>...</td>\n",
       "      <td>...</td>\n",
       "      <td>...</td>\n",
       "      <td>...</td>\n",
       "    </tr>\n",
       "    <tr>\n",
       "      <th>471</th>\n",
       "      <td>1.0</td>\n",
       "      <td>2653</td>\n",
       "      <td>1500.0</td>\n",
       "      <td>180.0</td>\n",
       "      <td>0.0</td>\n",
       "      <td>4.727388</td>\n",
       "      <td>0</td>\n",
       "      <td>1</td>\n",
       "      <td>0</td>\n",
       "      <td>1</td>\n",
       "      <td>...</td>\n",
       "      <td>0</td>\n",
       "      <td>1</td>\n",
       "      <td>0</td>\n",
       "      <td>0</td>\n",
       "      <td>1</td>\n",
       "      <td>1</td>\n",
       "      <td>0</td>\n",
       "      <td>1</td>\n",
       "      <td>0</td>\n",
       "      <td>0</td>\n",
       "    </tr>\n",
       "    <tr>\n",
       "      <th>403</th>\n",
       "      <td>1.0</td>\n",
       "      <td>1963</td>\n",
       "      <td>0.0</td>\n",
       "      <td>360.0</td>\n",
       "      <td>1.0</td>\n",
       "      <td>3.970292</td>\n",
       "      <td>1</td>\n",
       "      <td>0</td>\n",
       "      <td>1</td>\n",
       "      <td>0</td>\n",
       "      <td>...</td>\n",
       "      <td>1</td>\n",
       "      <td>0</td>\n",
       "      <td>0</td>\n",
       "      <td>0</td>\n",
       "      <td>1</td>\n",
       "      <td>1</td>\n",
       "      <td>0</td>\n",
       "      <td>0</td>\n",
       "      <td>1</td>\n",
       "      <td>0</td>\n",
       "    </tr>\n",
       "    <tr>\n",
       "      <th>484</th>\n",
       "      <td>1.0</td>\n",
       "      <td>8333</td>\n",
       "      <td>0.0</td>\n",
       "      <td>360.0</td>\n",
       "      <td>1.0</td>\n",
       "      <td>5.505332</td>\n",
       "      <td>0</td>\n",
       "      <td>1</td>\n",
       "      <td>0</td>\n",
       "      <td>1</td>\n",
       "      <td>...</td>\n",
       "      <td>0</td>\n",
       "      <td>0</td>\n",
       "      <td>1</td>\n",
       "      <td>1</td>\n",
       "      <td>0</td>\n",
       "      <td>1</td>\n",
       "      <td>0</td>\n",
       "      <td>0</td>\n",
       "      <td>1</td>\n",
       "      <td>0</td>\n",
       "    </tr>\n",
       "    <tr>\n",
       "      <th>29</th>\n",
       "      <td>1.0</td>\n",
       "      <td>3750</td>\n",
       "      <td>2083.0</td>\n",
       "      <td>360.0</td>\n",
       "      <td>1.0</td>\n",
       "      <td>4.787492</td>\n",
       "      <td>1</td>\n",
       "      <td>0</td>\n",
       "      <td>1</td>\n",
       "      <td>0</td>\n",
       "      <td>...</td>\n",
       "      <td>0</td>\n",
       "      <td>0</td>\n",
       "      <td>1</td>\n",
       "      <td>1</td>\n",
       "      <td>0</td>\n",
       "      <td>1</td>\n",
       "      <td>0</td>\n",
       "      <td>0</td>\n",
       "      <td>1</td>\n",
       "      <td>0</td>\n",
       "    </tr>\n",
       "    <tr>\n",
       "      <th>434</th>\n",
       "      <td>1.0</td>\n",
       "      <td>3750</td>\n",
       "      <td>0.0</td>\n",
       "      <td>360.0</td>\n",
       "      <td>1.0</td>\n",
       "      <td>4.605170</td>\n",
       "      <td>0</td>\n",
       "      <td>1</td>\n",
       "      <td>1</td>\n",
       "      <td>0</td>\n",
       "      <td>...</td>\n",
       "      <td>1</td>\n",
       "      <td>0</td>\n",
       "      <td>0</td>\n",
       "      <td>1</td>\n",
       "      <td>0</td>\n",
       "      <td>1</td>\n",
       "      <td>0</td>\n",
       "      <td>0</td>\n",
       "      <td>0</td>\n",
       "      <td>1</td>\n",
       "    </tr>\n",
       "  </tbody>\n",
       "</table>\n",
       "<p>429 rows × 21 columns</p>\n",
       "</div>"
      ],
      "text/plain": [
       "     const  ApplicantIncome  CoapplicantIncome  Loan_Amount_Term  \\\n",
       "170    1.0             1820             1769.0             360.0   \n",
       "16     1.0             3596                0.0             240.0   \n",
       "568    1.0             2378                0.0             360.0   \n",
       "601    1.0             2894             2792.0             360.0   \n",
       "179    1.0             2333             1451.0             480.0   \n",
       "..     ...              ...                ...               ...   \n",
       "471    1.0             2653             1500.0             180.0   \n",
       "403    1.0             1963                0.0             360.0   \n",
       "484    1.0             8333                0.0             360.0   \n",
       "29     1.0             3750             2083.0             360.0   \n",
       "434    1.0             3750                0.0             360.0   \n",
       "\n",
       "     Credit_History  LoanAmount_log  Gender_Female  Gender_Male  Married_No  \\\n",
       "170             1.0        4.553877              0            1           0   \n",
       "16              1.0        4.605170              0            1           1   \n",
       "568             1.0        2.197225              1            0           1   \n",
       "601             1.0        5.043425              0            1           0   \n",
       "179             0.0        4.624973              0            1           1   \n",
       "..              ...             ...            ...          ...         ...   \n",
       "471             0.0        4.727388              0            1           0   \n",
       "403             1.0        3.970292              1            0           1   \n",
       "484             1.0        5.505332              0            1           0   \n",
       "29              1.0        4.787492              1            0           1   \n",
       "434             1.0        4.605170              0            1           1   \n",
       "\n",
       "     Married_Yes  ...  Dependents_0  Dependents_1  Dependents_2  \\\n",
       "170            1  ...             1             0             0   \n",
       "16             0  ...             0             1             0   \n",
       "568            0  ...             1             0             0   \n",
       "601            1  ...             1             0             0   \n",
       "179            0  ...             1             0             0   \n",
       "..           ...  ...           ...           ...           ...   \n",
       "471            1  ...             0             1             0   \n",
       "403            0  ...             1             0             0   \n",
       "484            1  ...             0             0             1   \n",
       "29             0  ...             0             0             1   \n",
       "434            0  ...             1             0             0   \n",
       "\n",
       "     Education_Graduate  Education_Not Graduate  Self_Employed_No  \\\n",
       "170                   0                       1                 1   \n",
       "16                    0                       1                 1   \n",
       "568                   1                       0                 1   \n",
       "601                   0                       1                 1   \n",
       "179                   0                       1                 1   \n",
       "..                  ...                     ...               ...   \n",
       "471                   0                       1                 1   \n",
       "403                   0                       1                 1   \n",
       "484                   1                       0                 1   \n",
       "29                    1                       0                 1   \n",
       "434                   1                       0                 1   \n",
       "\n",
       "     Self_Employed_Yes  Property_Area_Rural  Property_Area_Semiurban  \\\n",
       "170                  0                    1                        0   \n",
       "16                   0                    0                        0   \n",
       "568                  0                    0                        0   \n",
       "601                  0                    1                        0   \n",
       "179                  0                    0                        0   \n",
       "..                 ...                  ...                      ...   \n",
       "471                  0                    1                        0   \n",
       "403                  0                    0                        1   \n",
       "484                  0                    0                        1   \n",
       "29                   0                    0                        1   \n",
       "434                  0                    0                        0   \n",
       "\n",
       "     Property_Area_Urban  \n",
       "170                    0  \n",
       "16                     1  \n",
       "568                    1  \n",
       "601                    0  \n",
       "179                    1  \n",
       "..                   ...  \n",
       "471                    0  \n",
       "403                    0  \n",
       "484                    0  \n",
       "29                     0  \n",
       "434                    1  \n",
       "\n",
       "[429 rows x 21 columns]"
      ]
     },
     "execution_count": 105,
     "metadata": {},
     "output_type": "execute_result"
    }
   ],
   "source": [
    "# add a constant to get an intercept\n",
    "x_train_sm = sm.add_constant(x_train)\n",
    "\n",
    "# Fit the regression  line using 'Logit'\n",
    "lr = sm.Logit(y_train, x_train_sm).fit()\n",
    "\n",
    "x_train_sm"
   ]
  },
  {
   "cell_type": "code",
   "execution_count": 106,
   "id": "1d3554c5-d98c-44f1-8813-c7eb44152722",
   "metadata": {},
   "outputs": [
    {
     "name": "stdout",
     "output_type": "stream",
     "text": [
      "                           Logit Regression Results                           \n",
      "==============================================================================\n",
      "Dep. Variable:            Loan_Status   No. Observations:                  429\n",
      "Model:                          Logit   Df Residuals:                      414\n",
      "Method:                           MLE   Df Model:                           14\n",
      "Date:                Tue, 15 Nov 2022   Pseudo R-squ.:                  0.2928\n",
      "Time:                        11:00:24   Log-Likelihood:                -186.11\n",
      "converged:                      False   LL-Null:                       -263.15\n",
      "Covariance Type:            nonrobust   LLR p-value:                 1.089e-25\n",
      "===========================================================================================\n",
      "                              coef    std err          z      P>|z|      [0.025      0.975]\n",
      "-------------------------------------------------------------------------------------------\n",
      "const                      -0.3439   9.78e+06  -3.52e-08      1.000   -1.92e+07    1.92e+07\n",
      "ApplicantIncome         -1.339e-05   3.84e-05     -0.349      0.727   -8.86e-05    6.18e-05\n",
      "CoapplicantIncome       -7.643e-05   4.21e-05     -1.816      0.069      -0.000    6.06e-06\n",
      "Loan_Amount_Term           -0.0015      0.002     -0.710      0.478      -0.006       0.003\n",
      "Credit_History              3.8933      0.507      7.677      0.000       2.899       4.887\n",
      "LoanAmount_log             -0.1633      0.314     -0.521      0.603      -0.778       0.451\n",
      "Gender_Female              -0.2666   4.78e+06  -5.57e-08      1.000   -9.38e+06    9.38e+06\n",
      "Gender_Male                -0.0773   7.68e+06  -1.01e-08      1.000   -1.51e+07    1.51e+07\n",
      "Married_No                 -0.2217   1.08e+07  -2.06e-08      1.000   -2.11e+07    2.11e+07\n",
      "Married_Yes                -0.1222   1.09e+07  -1.12e-08      1.000   -2.13e+07    2.13e+07\n",
      "Dependents_3               -0.1032   6.95e+06  -1.48e-08      1.000   -1.36e+07    1.36e+07\n",
      "Dependents_0               -0.0761   7.66e+06  -9.93e-09      1.000    -1.5e+07     1.5e+07\n",
      "Dependents_1               -0.3757   7.21e+06  -5.21e-08      1.000   -1.41e+07    1.41e+07\n",
      "Dependents_2                0.2111   6.02e+06   3.51e-08      1.000   -1.18e+07    1.18e+07\n",
      "Education_Graduate          0.1404        nan        nan        nan         nan         nan\n",
      "Education_Not Graduate     -0.4843        nan        nan        nan         nan         nan\n",
      "Self_Employed_No           -0.1435   9.61e+06  -1.49e-08      1.000   -1.88e+07    1.88e+07\n",
      "Self_Employed_Yes          -0.2004   8.77e+06  -2.28e-08      1.000   -1.72e+07    1.72e+07\n",
      "Property_Area_Rural        -0.6435   1.07e+07     -6e-08      1.000    -2.1e+07     2.1e+07\n",
      "Property_Area_Semiurban     0.6727   1.07e+07   6.27e-08      1.000    -2.1e+07     2.1e+07\n",
      "Property_Area_Urban        -0.3731   1.07e+07  -3.48e-08      1.000    -2.1e+07     2.1e+07\n",
      "===========================================================================================\n"
     ]
    }
   ],
   "source": [
    "print(lr.summary())"
   ]
  },
  {
   "cell_type": "code",
   "execution_count": 107,
   "id": "ed939fc1-98b7-4209-8ff6-ff395753d396",
   "metadata": {},
   "outputs": [
    {
     "data": {
      "text/plain": [
       "<statsmodels.discrete.discrete_model.BinaryResultsWrapper at 0x2af81d717f0>"
      ]
     },
     "execution_count": 107,
     "metadata": {},
     "output_type": "execute_result"
    }
   ],
   "source": [
    "lr"
   ]
  },
  {
   "cell_type": "code",
   "execution_count": 108,
   "id": "3d7eef40-8d05-4d52-81c4-ffae25308f97",
   "metadata": {},
   "outputs": [],
   "source": [
    "# add a constant to x_test:\n",
    "x_test_sm = sm.add_constant(x_test)\n",
    "\n",
    "# Predict the y values corresponding to x_test_sm\n",
    "y_pred = lr.predict(x_test_sm)"
   ]
  },
  {
   "cell_type": "code",
   "execution_count": 109,
   "id": "ea9762f7-df0f-4228-ae43-c38d49117fd9",
   "metadata": {},
   "outputs": [],
   "source": [
    "prediction = lr.predict(x_test_sm)"
   ]
  },
  {
   "cell_type": "code",
   "execution_count": 110,
   "id": "36e21f93-cbf1-4e68-8a0a-572f6c1da278",
   "metadata": {},
   "outputs": [
    {
     "data": {
      "text/plain": [
       "262    0.919009\n",
       "545    0.742877\n",
       "418    0.745449\n",
       "197    0.608120\n",
       "243    0.794677\n",
       "         ...   \n",
       "352    0.751203\n",
       "423    0.054996\n",
       "99     0.908597\n",
       "283    0.777161\n",
       "34     0.646872\n",
       "Length: 185, dtype: float64"
      ]
     },
     "execution_count": 110,
     "metadata": {},
     "output_type": "execute_result"
    }
   ],
   "source": [
    "prediction"
   ]
  },
  {
   "cell_type": "code",
   "execution_count": 111,
   "id": "a962a18a-f081-4667-9b42-54eca99f11c8",
   "metadata": {},
   "outputs": [
    {
     "data": {
      "text/plain": [
       "262    0\n",
       "545    1\n",
       "418    1\n",
       "197    1\n",
       "243    1\n",
       "      ..\n",
       "352    1\n",
       "423    0\n",
       "99     1\n",
       "283    1\n",
       "34     0\n",
       "Name: Loan_Status, Length: 185, dtype: int64"
      ]
     },
     "execution_count": 111,
     "metadata": {},
     "output_type": "execute_result"
    }
   ],
   "source": [
    "y_test"
   ]
  },
  {
   "cell_type": "code",
   "execution_count": 112,
   "id": "0d28dd6e-53d6-4484-b1f4-cb3965d7726d",
   "metadata": {},
   "outputs": [],
   "source": [
    "y_pred_new = np.where(prediction > 0.5,1,0)"
   ]
  },
  {
   "cell_type": "code",
   "execution_count": 113,
   "id": "efec2b22-0795-4479-91e1-356ad57238ff",
   "metadata": {},
   "outputs": [
    {
     "name": "stdout",
     "output_type": "stream",
     "text": [
      "              precision    recall  f1-score   support\n",
      "\n",
      "           0       0.93      0.40      0.56        62\n",
      "           1       0.77      0.98      0.86       123\n",
      "\n",
      "    accuracy                           0.79       185\n",
      "   macro avg       0.85      0.69      0.71       185\n",
      "weighted avg       0.82      0.79      0.76       185\n",
      "\n"
     ]
    }
   ],
   "source": [
    "from sklearn.metrics import classification_report\n",
    "print(classification_report(y_test,y_pred_new))"
   ]
  },
  {
   "cell_type": "code",
   "execution_count": 114,
   "id": "871954fb-3fe8-4cd4-a3cf-50cbb6f4424b",
   "metadata": {},
   "outputs": [],
   "source": [
    "y_pred_new = np.where(prediction > 0.7,1,0)"
   ]
  },
  {
   "cell_type": "code",
   "execution_count": 115,
   "id": "84405f9e-60d8-4444-90e4-782889b96460",
   "metadata": {},
   "outputs": [
    {
     "name": "stdout",
     "output_type": "stream",
     "text": [
      "              precision    recall  f1-score   support\n",
      "\n",
      "           0       0.54      0.55      0.54        62\n",
      "           1       0.77      0.76      0.77       123\n",
      "\n",
      "    accuracy                           0.69       185\n",
      "   macro avg       0.66      0.66      0.66       185\n",
      "weighted avg       0.69      0.69      0.69       185\n",
      "\n"
     ]
    }
   ],
   "source": [
    "from sklearn.metrics import classification_report\n",
    "print(classification_report(y_test,y_pred_new))"
   ]
  },
  {
   "cell_type": "markdown",
   "id": "aa5838fd-18a7-431b-a33b-a4ec733d8914",
   "metadata": {},
   "source": [
    "## Decision Tree :"
   ]
  },
  {
   "cell_type": "code",
   "execution_count": null,
   "id": "dd70f70f-ebae-4eb3-8d60-ab91d65ecdb2",
   "metadata": {},
   "outputs": [],
   "source": [
    " #Convert categorical columns to numerical value\n",
    "\n",
    "!pip install category_encoders"
   ]
  },
  {
   "cell_type": "code",
   "execution_count": 157,
   "id": "5cf5a8d8-a3ad-406f-b0ee-b846cbbcc961",
   "metadata": {},
   "outputs": [],
   "source": [
    "import category_encoders as ce\n",
    "\n",
    "encoder = ce.OrdinalEncoder(x)\n",
    "loan_2 = encoder.fit_transform(loan_1)\n"
   ]
  },
  {
   "cell_type": "code",
   "execution_count": 158,
   "id": "09a2a420-3f9e-4cb2-9476-b8f334f32f0a",
   "metadata": {},
   "outputs": [
    {
     "data": {
      "text/html": [
       "<div>\n",
       "<style scoped>\n",
       "    .dataframe tbody tr th:only-of-type {\n",
       "        vertical-align: middle;\n",
       "    }\n",
       "\n",
       "    .dataframe tbody tr th {\n",
       "        vertical-align: top;\n",
       "    }\n",
       "\n",
       "    .dataframe thead th {\n",
       "        text-align: right;\n",
       "    }\n",
       "</style>\n",
       "<table border=\"1\" class=\"dataframe\">\n",
       "  <thead>\n",
       "    <tr style=\"text-align: right;\">\n",
       "      <th></th>\n",
       "      <th>Gender</th>\n",
       "      <th>Married</th>\n",
       "      <th>Dependents</th>\n",
       "      <th>Education</th>\n",
       "      <th>Self_Employed</th>\n",
       "      <th>ApplicantIncome</th>\n",
       "      <th>CoapplicantIncome</th>\n",
       "      <th>Loan_Amount_Term</th>\n",
       "      <th>Credit_History</th>\n",
       "      <th>Property_Area</th>\n",
       "      <th>Loan_Status</th>\n",
       "      <th>LoanAmount_log</th>\n",
       "    </tr>\n",
       "  </thead>\n",
       "  <tbody>\n",
       "    <tr>\n",
       "      <th>0</th>\n",
       "      <td>1</td>\n",
       "      <td>1</td>\n",
       "      <td>1</td>\n",
       "      <td>1</td>\n",
       "      <td>1</td>\n",
       "      <td>5849</td>\n",
       "      <td>0.0</td>\n",
       "      <td>360.0</td>\n",
       "      <td>1.0</td>\n",
       "      <td>1</td>\n",
       "      <td>1</td>\n",
       "      <td>4.852030</td>\n",
       "    </tr>\n",
       "    <tr>\n",
       "      <th>1</th>\n",
       "      <td>1</td>\n",
       "      <td>2</td>\n",
       "      <td>2</td>\n",
       "      <td>1</td>\n",
       "      <td>1</td>\n",
       "      <td>4583</td>\n",
       "      <td>1508.0</td>\n",
       "      <td>360.0</td>\n",
       "      <td>1.0</td>\n",
       "      <td>2</td>\n",
       "      <td>0</td>\n",
       "      <td>4.852030</td>\n",
       "    </tr>\n",
       "    <tr>\n",
       "      <th>2</th>\n",
       "      <td>1</td>\n",
       "      <td>2</td>\n",
       "      <td>1</td>\n",
       "      <td>1</td>\n",
       "      <td>2</td>\n",
       "      <td>3000</td>\n",
       "      <td>0.0</td>\n",
       "      <td>360.0</td>\n",
       "      <td>1.0</td>\n",
       "      <td>1</td>\n",
       "      <td>1</td>\n",
       "      <td>4.189655</td>\n",
       "    </tr>\n",
       "    <tr>\n",
       "      <th>3</th>\n",
       "      <td>1</td>\n",
       "      <td>2</td>\n",
       "      <td>1</td>\n",
       "      <td>2</td>\n",
       "      <td>1</td>\n",
       "      <td>2583</td>\n",
       "      <td>2358.0</td>\n",
       "      <td>360.0</td>\n",
       "      <td>1.0</td>\n",
       "      <td>1</td>\n",
       "      <td>1</td>\n",
       "      <td>4.787492</td>\n",
       "    </tr>\n",
       "    <tr>\n",
       "      <th>4</th>\n",
       "      <td>1</td>\n",
       "      <td>1</td>\n",
       "      <td>1</td>\n",
       "      <td>1</td>\n",
       "      <td>1</td>\n",
       "      <td>6000</td>\n",
       "      <td>0.0</td>\n",
       "      <td>360.0</td>\n",
       "      <td>1.0</td>\n",
       "      <td>1</td>\n",
       "      <td>1</td>\n",
       "      <td>4.948760</td>\n",
       "    </tr>\n",
       "    <tr>\n",
       "      <th>...</th>\n",
       "      <td>...</td>\n",
       "      <td>...</td>\n",
       "      <td>...</td>\n",
       "      <td>...</td>\n",
       "      <td>...</td>\n",
       "      <td>...</td>\n",
       "      <td>...</td>\n",
       "      <td>...</td>\n",
       "      <td>...</td>\n",
       "      <td>...</td>\n",
       "      <td>...</td>\n",
       "      <td>...</td>\n",
       "    </tr>\n",
       "    <tr>\n",
       "      <th>609</th>\n",
       "      <td>2</td>\n",
       "      <td>1</td>\n",
       "      <td>1</td>\n",
       "      <td>1</td>\n",
       "      <td>1</td>\n",
       "      <td>2900</td>\n",
       "      <td>0.0</td>\n",
       "      <td>360.0</td>\n",
       "      <td>1.0</td>\n",
       "      <td>2</td>\n",
       "      <td>1</td>\n",
       "      <td>4.262680</td>\n",
       "    </tr>\n",
       "    <tr>\n",
       "      <th>610</th>\n",
       "      <td>1</td>\n",
       "      <td>2</td>\n",
       "      <td>4</td>\n",
       "      <td>1</td>\n",
       "      <td>1</td>\n",
       "      <td>4106</td>\n",
       "      <td>0.0</td>\n",
       "      <td>180.0</td>\n",
       "      <td>1.0</td>\n",
       "      <td>2</td>\n",
       "      <td>1</td>\n",
       "      <td>3.688879</td>\n",
       "    </tr>\n",
       "    <tr>\n",
       "      <th>611</th>\n",
       "      <td>1</td>\n",
       "      <td>2</td>\n",
       "      <td>2</td>\n",
       "      <td>1</td>\n",
       "      <td>1</td>\n",
       "      <td>8072</td>\n",
       "      <td>240.0</td>\n",
       "      <td>360.0</td>\n",
       "      <td>1.0</td>\n",
       "      <td>1</td>\n",
       "      <td>1</td>\n",
       "      <td>5.533389</td>\n",
       "    </tr>\n",
       "    <tr>\n",
       "      <th>612</th>\n",
       "      <td>1</td>\n",
       "      <td>2</td>\n",
       "      <td>3</td>\n",
       "      <td>1</td>\n",
       "      <td>1</td>\n",
       "      <td>7583</td>\n",
       "      <td>0.0</td>\n",
       "      <td>360.0</td>\n",
       "      <td>1.0</td>\n",
       "      <td>1</td>\n",
       "      <td>1</td>\n",
       "      <td>5.231109</td>\n",
       "    </tr>\n",
       "    <tr>\n",
       "      <th>613</th>\n",
       "      <td>2</td>\n",
       "      <td>1</td>\n",
       "      <td>1</td>\n",
       "      <td>1</td>\n",
       "      <td>2</td>\n",
       "      <td>4583</td>\n",
       "      <td>0.0</td>\n",
       "      <td>360.0</td>\n",
       "      <td>0.0</td>\n",
       "      <td>3</td>\n",
       "      <td>0</td>\n",
       "      <td>4.890349</td>\n",
       "    </tr>\n",
       "  </tbody>\n",
       "</table>\n",
       "<p>614 rows × 12 columns</p>\n",
       "</div>"
      ],
      "text/plain": [
       "     Gender  Married  Dependents  Education  Self_Employed  ApplicantIncome  \\\n",
       "0         1        1           1          1              1             5849   \n",
       "1         1        2           2          1              1             4583   \n",
       "2         1        2           1          1              2             3000   \n",
       "3         1        2           1          2              1             2583   \n",
       "4         1        1           1          1              1             6000   \n",
       "..      ...      ...         ...        ...            ...              ...   \n",
       "609       2        1           1          1              1             2900   \n",
       "610       1        2           4          1              1             4106   \n",
       "611       1        2           2          1              1             8072   \n",
       "612       1        2           3          1              1             7583   \n",
       "613       2        1           1          1              2             4583   \n",
       "\n",
       "     CoapplicantIncome  Loan_Amount_Term  Credit_History  Property_Area  \\\n",
       "0                  0.0             360.0             1.0              1   \n",
       "1               1508.0             360.0             1.0              2   \n",
       "2                  0.0             360.0             1.0              1   \n",
       "3               2358.0             360.0             1.0              1   \n",
       "4                  0.0             360.0             1.0              1   \n",
       "..                 ...               ...             ...            ...   \n",
       "609                0.0             360.0             1.0              2   \n",
       "610                0.0             180.0             1.0              2   \n",
       "611              240.0             360.0             1.0              1   \n",
       "612                0.0             360.0             1.0              1   \n",
       "613                0.0             360.0             0.0              3   \n",
       "\n",
       "     Loan_Status  LoanAmount_log  \n",
       "0              1        4.852030  \n",
       "1              0        4.852030  \n",
       "2              1        4.189655  \n",
       "3              1        4.787492  \n",
       "4              1        4.948760  \n",
       "..           ...             ...  \n",
       "609            1        4.262680  \n",
       "610            1        3.688879  \n",
       "611            1        5.533389  \n",
       "612            1        5.231109  \n",
       "613            0        4.890349  \n",
       "\n",
       "[614 rows x 12 columns]"
      ]
     },
     "execution_count": 158,
     "metadata": {},
     "output_type": "execute_result"
    }
   ],
   "source": [
    "loan_2"
   ]
  },
  {
   "cell_type": "code",
   "execution_count": 190,
   "id": "e9a1ef5e-703c-40bc-b3a5-44d010a9963f",
   "metadata": {},
   "outputs": [
    {
     "data": {
      "text/plain": [
       "DecisionTreeClassifier(criterion='entropy', max_depth=4, min_samples_leaf=50)"
      ]
     },
     "execution_count": 190,
     "metadata": {},
     "output_type": "execute_result"
    }
   ],
   "source": [
    "from sklearn.tree import DecisionTreeClassifier\n",
    "clf_entro = DecisionTreeClassifier(criterion='entropy',max_depth=4, min_samples_leaf=50)\n",
    "\n",
    "# fit the model\n",
    "clf_entro.fit(x_train, y_train)"
   ]
  },
  {
   "cell_type": "code",
   "execution_count": 163,
   "id": "3271e0e8-dd01-4599-832a-c6916ed35d4c",
   "metadata": {},
   "outputs": [
    {
     "data": {
      "text/plain": [
       "array([1, 1, 1, 1, 1, 0, 1, 1, 1, 1, 0, 1, 0, 1, 0, 1, 0, 1, 1, 1, 1, 1,\n",
       "       1, 1, 1, 0, 1, 0, 1, 1, 1, 1, 1, 1, 0, 0, 0, 1, 1, 1, 1, 0, 1, 1,\n",
       "       1, 1, 1, 1, 1, 1, 1, 1, 1, 1, 1, 0, 1, 1, 1, 1, 1, 1, 1, 1, 0, 1,\n",
       "       1, 0, 1, 1, 1, 1, 1, 1, 1, 1, 1, 1, 0, 0, 1, 1, 1, 1, 1, 1, 1, 1,\n",
       "       1, 1, 1, 1, 0, 1, 1, 1, 1, 0, 1, 1, 1, 1, 1, 1, 1, 1, 1, 1, 1, 1,\n",
       "       1, 1, 1, 1, 0, 1, 1, 1, 1, 1, 1, 1, 1, 1, 1, 1, 1, 1, 1, 1, 0, 1,\n",
       "       1, 1, 1, 0, 1, 0, 1, 1, 1, 0, 1, 1, 1, 1, 1, 1, 1, 1, 1, 1, 1, 1,\n",
       "       1, 1, 1, 0, 1, 1, 1, 1, 1, 1, 1, 1, 1, 1, 0, 1, 1, 1, 1, 1, 1, 1,\n",
       "       1, 1, 0, 1, 0, 1, 1, 1, 1], dtype=int64)"
      ]
     },
     "execution_count": 163,
     "metadata": {},
     "output_type": "execute_result"
    }
   ],
   "source": [
    "y_pred = clf_entro.predict(x_test)\n",
    "y_pred"
   ]
  },
  {
   "cell_type": "code",
   "execution_count": 189,
   "id": "d0587220-82a6-4108-8395-230dd85f62e6",
   "metadata": {},
   "outputs": [
    {
     "name": "stdout",
     "output_type": "stream",
     "text": [
      "Model accuracy score with criterion entropy index: 0.8216\n"
     ]
    }
   ],
   "source": [
    "\n",
    "from sklearn.metrics import accuracy_score\n",
    "\n",
    "print('Model accuracy score with criterion entropy index: {0:0.4f}'. format(accuracy_score(y_test, y_pred)))"
   ]
  },
  {
   "cell_type": "code",
   "execution_count": 184,
   "id": "a7db3f75-cc23-45ba-a8b6-58ffbe2573f2",
   "metadata": {},
   "outputs": [
    {
     "data": {
      "text/plain": [
       "[Text(0.5, 0.9, 'X[3] <= 0.5\\nentropy = 0.896\\nsamples = 614\\nvalue = [192, 422]'),\n",
       " Text(0.4230769230769231, 0.7, 'entropy = 0.397\\nsamples = 89\\nvalue = [82, 7]'),\n",
       " Text(0.5769230769230769, 0.7, 'X[18] <= 0.5\\nentropy = 0.741\\nsamples = 525\\nvalue = [110, 415]'),\n",
       " Text(0.3076923076923077, 0.5, 'X[8] <= 0.5\\nentropy = 0.819\\nsamples = 322\\nvalue = [82, 240]'),\n",
       " Text(0.15384615384615385, 0.3, 'X[0] <= 3633.5\\nentropy = 0.903\\nsamples = 113\\nvalue = [36, 77]'),\n",
       " Text(0.07692307692307693, 0.1, 'entropy = 0.93\\nsamples = 55\\nvalue = [19, 36]'),\n",
       " Text(0.23076923076923078, 0.1, 'entropy = 0.873\\nsamples = 58\\nvalue = [17, 41]'),\n",
       " Text(0.46153846153846156, 0.3, 'X[0] <= 5291.5\\nentropy = 0.76\\nsamples = 209\\nvalue = [46, 163]'),\n",
       " Text(0.38461538461538464, 0.1, 'entropy = 0.82\\nsamples = 137\\nvalue = [35, 102]'),\n",
       " Text(0.5384615384615384, 0.1, 'entropy = 0.617\\nsamples = 72\\nvalue = [11, 61]'),\n",
       " Text(0.8461538461538461, 0.5, 'X[4] <= 5.004\\nentropy = 0.579\\nsamples = 203\\nvalue = [28, 175]'),\n",
       " Text(0.7692307692307693, 0.3, 'X[7] <= 0.5\\nentropy = 0.407\\nsamples = 135\\nvalue = [11, 124]'),\n",
       " Text(0.6923076923076923, 0.1, 'entropy = 0.224\\nsamples = 83\\nvalue = [3, 80]'),\n",
       " Text(0.8461538461538461, 0.1, 'entropy = 0.619\\nsamples = 52\\nvalue = [8, 44]'),\n",
       " Text(0.9230769230769231, 0.3, 'entropy = 0.811\\nsamples = 68\\nvalue = [17, 51]')]"
      ]
     },
     "execution_count": 184,
     "metadata": {},
     "output_type": "execute_result"
    },
    {
     "data": {
      "image/png": "[encoded data removed]",
      "text/plain": [
       "<Figure size 864x576 with 1 Axes>"
      ]
     },
     "metadata": {
      "needs_background": "light"
     },
     "output_type": "display_data"
    }
   ],
   "source": [
    "import matplotlib.pyplot as plt # data visualization\n",
    "import seaborn as sns # statistical data visualization\n",
    "%matplotlib inline\n",
    "\n",
    "plt.figure(figsize=(12,8))\n",
    "\n",
    "from sklearn import tree\n",
    "\n",
    "tree.plot_tree(clf_entro.fit(x, y))"
   ]
  },
  {
   "cell_type": "markdown",
   "id": "54bd4353-d80c-4e60-abdc-dad844c94038",
   "metadata": {},
   "source": [
    "# Random Forest"
   ]
  },
  {
   "cell_type": "code",
   "execution_count": 192,
   "id": "aa3f129c-aa6a-4e98-8ad4-d0df41f06c10",
   "metadata": {},
   "outputs": [
    {
     "data": {
      "text/plain": [
       "RandomForestClassifier(max_depth=3, n_estimators=20)"
      ]
     },
     "execution_count": 192,
     "metadata": {},
     "output_type": "execute_result"
    }
   ],
   "source": [
    "from sklearn.ensemble import RandomForestClass ;ifier\n",
    "random_forest = RandomForestClassifier(n_estimators=20,criterion = 'gini', max_depth =3)\n",
    "random_forest.fit(x_train,y_train)"
   ]
  },
  {
   "cell_type": "code",
   "execution_count": 195,
   "id": "bd7a1960-e5ee-43e5-8ab9-2e8deb130c28",
   "metadata": {},
   "outputs": [
    {
     "name": "stdout",
     "output_type": "stream",
     "text": [
      "Model accuracy score with criterion gini index: 0.8216\n"
     ]
    }
   ],
   "source": [
    "y_pred = random_forest.predict(x_test)\n",
    "from sklearn.metrics import accuracy_score\n",
    "\n",
    "print('Model accuracy score with criterion gini index: {0:0.4f}'. format(accuracy_score(y_test,y_pred)))"
   ]
  },
  {
   "cell_type": "code",
   "execution_count": null,
   "id": "b4265f75-cbb6-43bb-ae36-a58dd9d79dca",
   "metadata": {},
   "outputs": [],
   "source": []
  },
  {
   "cell_type": "code",
   "execution_count": null,
   "id": "a776d631",
   "metadata": {},
   "outputs": [],
   "source": []
  },
  {
   "cell_type": "code",
   "execution_count": null,
   "id": "1d3e5b5e",
   "metadata": {},
   "outputs": [],
   "source": []
  }
 ],
 "metadata": {
  "kernelspec": {
   "display_name": "Python 3 (ipykernel)",
   "language": "python",
   "name": "python3"
  },
  "language_info": {
   "codemirror_mode": {
    "name": "ipython",
    "version": 3
   },
   "file_extension": ".py",
   "mimetype": "text/x-python",
   "name": "python",
   "nbconvert_exporter": "python",
   "pygments_lexer": "ipython3",
   "version": "3.9.12"
  }
 },
 "nbformat": 4,
 "nbformat_minor": 5
}
